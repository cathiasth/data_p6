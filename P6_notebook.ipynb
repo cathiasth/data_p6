{
 "cells": [
  {
   "cell_type": "markdown",
   "id": "3068dd18",
   "metadata": {},
   "source": [
    "# P6 - Analysez les ventes d'une librairie avec Python"
   ]
  },
  {
   "cell_type": "markdown",
   "id": "dc545ea3",
   "metadata": {},
   "source": [
    "## Préparation des fichiers"
   ]
  },
  {
   "cell_type": "code",
   "execution_count": 1,
   "id": "da45602f",
   "metadata": {},
   "outputs": [],
   "source": [
    "import pandas as pd\n",
    "import seaborn as sns \n",
    "import numpy as np, math\n",
    "import matplotlib.pyplot as plt\n",
    "import scipy.stats as st"
   ]
  },
  {
   "cell_type": "markdown",
   "id": "5fd0ed21",
   "metadata": {},
   "source": [
    "Création d'une classe pour améliorer le style du texte."
   ]
  },
  {
   "cell_type": "code",
   "execution_count": 2,
   "id": "c96acd2f",
   "metadata": {},
   "outputs": [],
   "source": [
    "class color:\n",
    "    BOLD = '\\033[1m'\n",
    "    END = '\\033[0m'\n",
    "    UNDERLINE = '\\033[4m'"
   ]
  },
  {
   "cell_type": "markdown",
   "id": "8e2293a0",
   "metadata": {},
   "source": [
    "Importation des fichiers csv."
   ]
  },
  {
   "cell_type": "code",
   "execution_count": 3,
   "id": "8b4019e7",
   "metadata": {},
   "outputs": [],
   "source": [
    "customers = pd.read_csv('customers.csv')\n",
    "products = pd.read_csv('products.csv')\n",
    "transactions = pd.read_csv('transactions.csv')"
   ]
  },
  {
   "cell_type": "markdown",
   "id": "f24542a2",
   "metadata": {},
   "source": [
    "Affichage des fichiers."
   ]
  },
  {
   "cell_type": "code",
   "execution_count": 6,
   "id": "d0b60707",
   "metadata": {},
   "outputs": [
    {
     "data": {
      "text/html": [
       "<div>\n",
       "<style scoped>\n",
       "    .dataframe tbody tr th:only-of-type {\n",
       "        vertical-align: middle;\n",
       "    }\n",
       "\n",
       "    .dataframe tbody tr th {\n",
       "        vertical-align: top;\n",
       "    }\n",
       "\n",
       "    .dataframe thead th {\n",
       "        text-align: right;\n",
       "    }\n",
       "</style>\n",
       "<table border=\"1\" class=\"dataframe\">\n",
       "  <thead>\n",
       "    <tr style=\"text-align: right;\">\n",
       "      <th></th>\n",
       "      <th>client_id</th>\n",
       "      <th>sex</th>\n",
       "      <th>birth</th>\n",
       "    </tr>\n",
       "  </thead>\n",
       "  <tbody>\n",
       "    <tr>\n",
       "      <th>0</th>\n",
       "      <td>c_4410</td>\n",
       "      <td>f</td>\n",
       "      <td>1967</td>\n",
       "    </tr>\n",
       "    <tr>\n",
       "      <th>1</th>\n",
       "      <td>c_7839</td>\n",
       "      <td>f</td>\n",
       "      <td>1975</td>\n",
       "    </tr>\n",
       "    <tr>\n",
       "      <th>2</th>\n",
       "      <td>c_1699</td>\n",
       "      <td>f</td>\n",
       "      <td>1984</td>\n",
       "    </tr>\n",
       "    <tr>\n",
       "      <th>3</th>\n",
       "      <td>c_5961</td>\n",
       "      <td>f</td>\n",
       "      <td>1962</td>\n",
       "    </tr>\n",
       "    <tr>\n",
       "      <th>4</th>\n",
       "      <td>c_5320</td>\n",
       "      <td>m</td>\n",
       "      <td>1943</td>\n",
       "    </tr>\n",
       "    <tr>\n",
       "      <th>...</th>\n",
       "      <td>...</td>\n",
       "      <td>...</td>\n",
       "      <td>...</td>\n",
       "    </tr>\n",
       "    <tr>\n",
       "      <th>8618</th>\n",
       "      <td>c_7920</td>\n",
       "      <td>m</td>\n",
       "      <td>1956</td>\n",
       "    </tr>\n",
       "    <tr>\n",
       "      <th>8619</th>\n",
       "      <td>c_7403</td>\n",
       "      <td>f</td>\n",
       "      <td>1970</td>\n",
       "    </tr>\n",
       "    <tr>\n",
       "      <th>8620</th>\n",
       "      <td>c_5119</td>\n",
       "      <td>m</td>\n",
       "      <td>1974</td>\n",
       "    </tr>\n",
       "    <tr>\n",
       "      <th>8621</th>\n",
       "      <td>c_5643</td>\n",
       "      <td>f</td>\n",
       "      <td>1968</td>\n",
       "    </tr>\n",
       "    <tr>\n",
       "      <th>8622</th>\n",
       "      <td>c_84</td>\n",
       "      <td>f</td>\n",
       "      <td>1982</td>\n",
       "    </tr>\n",
       "  </tbody>\n",
       "</table>\n",
       "<p>8623 rows × 3 columns</p>\n",
       "</div>"
      ],
      "text/plain": [
       "     client_id sex  birth\n",
       "0       c_4410   f   1967\n",
       "1       c_7839   f   1975\n",
       "2       c_1699   f   1984\n",
       "3       c_5961   f   1962\n",
       "4       c_5320   m   1943\n",
       "...        ...  ..    ...\n",
       "8618    c_7920   m   1956\n",
       "8619    c_7403   f   1970\n",
       "8620    c_5119   m   1974\n",
       "8621    c_5643   f   1968\n",
       "8622      c_84   f   1982\n",
       "\n",
       "[8623 rows x 3 columns]"
      ]
     },
     "execution_count": 6,
     "metadata": {},
     "output_type": "execute_result"
    }
   ],
   "source": [
    "customers"
   ]
  },
  {
   "cell_type": "code",
   "execution_count": 7,
   "id": "69e02957",
   "metadata": {},
   "outputs": [
    {
     "data": {
      "text/html": [
       "<div>\n",
       "<style scoped>\n",
       "    .dataframe tbody tr th:only-of-type {\n",
       "        vertical-align: middle;\n",
       "    }\n",
       "\n",
       "    .dataframe tbody tr th {\n",
       "        vertical-align: top;\n",
       "    }\n",
       "\n",
       "    .dataframe thead th {\n",
       "        text-align: right;\n",
       "    }\n",
       "</style>\n",
       "<table border=\"1\" class=\"dataframe\">\n",
       "  <thead>\n",
       "    <tr style=\"text-align: right;\">\n",
       "      <th></th>\n",
       "      <th>id_prod</th>\n",
       "      <th>price</th>\n",
       "      <th>categ</th>\n",
       "    </tr>\n",
       "  </thead>\n",
       "  <tbody>\n",
       "    <tr>\n",
       "      <th>0</th>\n",
       "      <td>0_1421</td>\n",
       "      <td>19.99</td>\n",
       "      <td>0</td>\n",
       "    </tr>\n",
       "    <tr>\n",
       "      <th>1</th>\n",
       "      <td>0_1368</td>\n",
       "      <td>5.13</td>\n",
       "      <td>0</td>\n",
       "    </tr>\n",
       "    <tr>\n",
       "      <th>2</th>\n",
       "      <td>0_731</td>\n",
       "      <td>17.99</td>\n",
       "      <td>0</td>\n",
       "    </tr>\n",
       "    <tr>\n",
       "      <th>3</th>\n",
       "      <td>1_587</td>\n",
       "      <td>4.99</td>\n",
       "      <td>1</td>\n",
       "    </tr>\n",
       "    <tr>\n",
       "      <th>4</th>\n",
       "      <td>0_1507</td>\n",
       "      <td>3.99</td>\n",
       "      <td>0</td>\n",
       "    </tr>\n",
       "    <tr>\n",
       "      <th>...</th>\n",
       "      <td>...</td>\n",
       "      <td>...</td>\n",
       "      <td>...</td>\n",
       "    </tr>\n",
       "    <tr>\n",
       "      <th>3282</th>\n",
       "      <td>2_23</td>\n",
       "      <td>115.99</td>\n",
       "      <td>2</td>\n",
       "    </tr>\n",
       "    <tr>\n",
       "      <th>3283</th>\n",
       "      <td>0_146</td>\n",
       "      <td>17.14</td>\n",
       "      <td>0</td>\n",
       "    </tr>\n",
       "    <tr>\n",
       "      <th>3284</th>\n",
       "      <td>0_802</td>\n",
       "      <td>11.22</td>\n",
       "      <td>0</td>\n",
       "    </tr>\n",
       "    <tr>\n",
       "      <th>3285</th>\n",
       "      <td>1_140</td>\n",
       "      <td>38.56</td>\n",
       "      <td>1</td>\n",
       "    </tr>\n",
       "    <tr>\n",
       "      <th>3286</th>\n",
       "      <td>0_1920</td>\n",
       "      <td>25.16</td>\n",
       "      <td>0</td>\n",
       "    </tr>\n",
       "  </tbody>\n",
       "</table>\n",
       "<p>3287 rows × 3 columns</p>\n",
       "</div>"
      ],
      "text/plain": [
       "     id_prod   price  categ\n",
       "0     0_1421   19.99      0\n",
       "1     0_1368    5.13      0\n",
       "2      0_731   17.99      0\n",
       "3      1_587    4.99      1\n",
       "4     0_1507    3.99      0\n",
       "...      ...     ...    ...\n",
       "3282    2_23  115.99      2\n",
       "3283   0_146   17.14      0\n",
       "3284   0_802   11.22      0\n",
       "3285   1_140   38.56      1\n",
       "3286  0_1920   25.16      0\n",
       "\n",
       "[3287 rows x 3 columns]"
      ]
     },
     "execution_count": 7,
     "metadata": {},
     "output_type": "execute_result"
    }
   ],
   "source": [
    "products"
   ]
  },
  {
   "cell_type": "code",
   "execution_count": 8,
   "id": "b37bd59e",
   "metadata": {},
   "outputs": [
    {
     "data": {
      "text/html": [
       "<div>\n",
       "<style scoped>\n",
       "    .dataframe tbody tr th:only-of-type {\n",
       "        vertical-align: middle;\n",
       "    }\n",
       "\n",
       "    .dataframe tbody tr th {\n",
       "        vertical-align: top;\n",
       "    }\n",
       "\n",
       "    .dataframe thead th {\n",
       "        text-align: right;\n",
       "    }\n",
       "</style>\n",
       "<table border=\"1\" class=\"dataframe\">\n",
       "  <thead>\n",
       "    <tr style=\"text-align: right;\">\n",
       "      <th></th>\n",
       "      <th>id_prod</th>\n",
       "      <th>date</th>\n",
       "      <th>session_id</th>\n",
       "      <th>client_id</th>\n",
       "    </tr>\n",
       "  </thead>\n",
       "  <tbody>\n",
       "    <tr>\n",
       "      <th>0</th>\n",
       "      <td>0_1518</td>\n",
       "      <td>2022-05-20 13:21:29.043970</td>\n",
       "      <td>s_211425</td>\n",
       "      <td>c_103</td>\n",
       "    </tr>\n",
       "    <tr>\n",
       "      <th>1</th>\n",
       "      <td>1_251</td>\n",
       "      <td>2022-02-02 07:55:19.149409</td>\n",
       "      <td>s_158752</td>\n",
       "      <td>c_8534</td>\n",
       "    </tr>\n",
       "    <tr>\n",
       "      <th>2</th>\n",
       "      <td>0_1277</td>\n",
       "      <td>2022-06-18 15:44:33.155329</td>\n",
       "      <td>s_225667</td>\n",
       "      <td>c_6714</td>\n",
       "    </tr>\n",
       "    <tr>\n",
       "      <th>3</th>\n",
       "      <td>2_209</td>\n",
       "      <td>2021-06-24 04:19:29.835891</td>\n",
       "      <td>s_52962</td>\n",
       "      <td>c_6941</td>\n",
       "    </tr>\n",
       "    <tr>\n",
       "      <th>4</th>\n",
       "      <td>0_1509</td>\n",
       "      <td>2023-01-11 08:22:08.194479</td>\n",
       "      <td>s_325227</td>\n",
       "      <td>c_4232</td>\n",
       "    </tr>\n",
       "    <tr>\n",
       "      <th>...</th>\n",
       "      <td>...</td>\n",
       "      <td>...</td>\n",
       "      <td>...</td>\n",
       "      <td>...</td>\n",
       "    </tr>\n",
       "    <tr>\n",
       "      <th>679527</th>\n",
       "      <td>0_1551</td>\n",
       "      <td>2022-01-15 13:05:06.246925</td>\n",
       "      <td>s_150195</td>\n",
       "      <td>c_8489</td>\n",
       "    </tr>\n",
       "    <tr>\n",
       "      <th>679528</th>\n",
       "      <td>1_639</td>\n",
       "      <td>2022-03-19 16:03:23.429229</td>\n",
       "      <td>s_181434</td>\n",
       "      <td>c_4370</td>\n",
       "    </tr>\n",
       "    <tr>\n",
       "      <th>679529</th>\n",
       "      <td>0_1425</td>\n",
       "      <td>2022-12-20 04:33:37.584749</td>\n",
       "      <td>s_314704</td>\n",
       "      <td>c_304</td>\n",
       "    </tr>\n",
       "    <tr>\n",
       "      <th>679530</th>\n",
       "      <td>0_1994</td>\n",
       "      <td>2021-07-16 20:36:35.350579</td>\n",
       "      <td>s_63204</td>\n",
       "      <td>c_2227</td>\n",
       "    </tr>\n",
       "    <tr>\n",
       "      <th>679531</th>\n",
       "      <td>1_523</td>\n",
       "      <td>2022-09-28 01:12:01.973763</td>\n",
       "      <td>s_274568</td>\n",
       "      <td>c_3873</td>\n",
       "    </tr>\n",
       "  </tbody>\n",
       "</table>\n",
       "<p>679532 rows × 4 columns</p>\n",
       "</div>"
      ],
      "text/plain": [
       "       id_prod                        date session_id client_id\n",
       "0       0_1518  2022-05-20 13:21:29.043970   s_211425     c_103\n",
       "1        1_251  2022-02-02 07:55:19.149409   s_158752    c_8534\n",
       "2       0_1277  2022-06-18 15:44:33.155329   s_225667    c_6714\n",
       "3        2_209  2021-06-24 04:19:29.835891    s_52962    c_6941\n",
       "4       0_1509  2023-01-11 08:22:08.194479   s_325227    c_4232\n",
       "...        ...                         ...        ...       ...\n",
       "679527  0_1551  2022-01-15 13:05:06.246925   s_150195    c_8489\n",
       "679528   1_639  2022-03-19 16:03:23.429229   s_181434    c_4370\n",
       "679529  0_1425  2022-12-20 04:33:37.584749   s_314704     c_304\n",
       "679530  0_1994  2021-07-16 20:36:35.350579    s_63204    c_2227\n",
       "679531   1_523  2022-09-28 01:12:01.973763   s_274568    c_3873\n",
       "\n",
       "[679532 rows x 4 columns]"
      ]
     },
     "execution_count": 8,
     "metadata": {},
     "output_type": "execute_result"
    }
   ],
   "source": [
    "transactions"
   ]
  },
  {
   "cell_type": "markdown",
   "id": "5360f2ba",
   "metadata": {},
   "source": [
    "## Vérification des clés"
   ]
  },
  {
   "cell_type": "markdown",
   "id": "6e31ed7c",
   "metadata": {},
   "source": [
    "- Vérification des valeurs manquantes dans les dataframes :"
   ]
  },
  {
   "cell_type": "code",
   "execution_count": 76,
   "id": "76e15193",
   "metadata": {},
   "outputs": [
    {
     "data": {
      "text/plain": [
       "client_id    0\n",
       "sex          0\n",
       "birth        0\n",
       "dtype: int64"
      ]
     },
     "execution_count": 76,
     "metadata": {},
     "output_type": "execute_result"
    }
   ],
   "source": [
    "customers.isnull().sum()"
   ]
  },
  {
   "cell_type": "code",
   "execution_count": 77,
   "id": "4a8d9389",
   "metadata": {},
   "outputs": [
    {
     "data": {
      "text/plain": [
       "id_prod    0\n",
       "price      0\n",
       "categ      0\n",
       "dtype: int64"
      ]
     },
     "execution_count": 77,
     "metadata": {},
     "output_type": "execute_result"
    }
   ],
   "source": [
    "products.isnull().sum()"
   ]
  },
  {
   "cell_type": "code",
   "execution_count": 78,
   "id": "d8fdcc0c",
   "metadata": {},
   "outputs": [
    {
     "data": {
      "text/plain": [
       "id_prod       0\n",
       "date          0\n",
       "session_id    0\n",
       "client_id     0\n",
       "dtype: int64"
      ]
     },
     "execution_count": 78,
     "metadata": {},
     "output_type": "execute_result"
    }
   ],
   "source": [
    "transactions.isnull().sum()"
   ]
  },
  {
   "cell_type": "markdown",
   "id": "dd1c04fe",
   "metadata": {},
   "source": [
    "<u><strong>Conclusion :</strong></u> Les dataframes n'ont pas de valeurs manquantes."
   ]
  },
  {
   "cell_type": "markdown",
   "id": "f722a826",
   "metadata": {},
   "source": [
    "- Vérification des clés uniques sur les clés primaires et secondaires :"
   ]
  },
  {
   "cell_type": "code",
   "execution_count": 13,
   "id": "60c24fd9",
   "metadata": {},
   "outputs": [
    {
     "data": {
      "text/plain": [
       "8623"
      ]
     },
     "execution_count": 13,
     "metadata": {},
     "output_type": "execute_result"
    }
   ],
   "source": [
    "customers['client_id'].nunique()"
   ]
  },
  {
   "cell_type": "code",
   "execution_count": 11,
   "id": "d2d20d3e",
   "metadata": {},
   "outputs": [
    {
     "data": {
      "text/plain": [
       "8623"
      ]
     },
     "execution_count": 11,
     "metadata": {},
     "output_type": "execute_result"
    }
   ],
   "source": [
    "len(customers)"
   ]
  },
  {
   "cell_type": "code",
   "execution_count": 14,
   "id": "8a62a196",
   "metadata": {},
   "outputs": [
    {
     "data": {
      "text/plain": [
       "3287"
      ]
     },
     "execution_count": 14,
     "metadata": {},
     "output_type": "execute_result"
    }
   ],
   "source": [
    "products['id_prod'].nunique()"
   ]
  },
  {
   "cell_type": "code",
   "execution_count": 15,
   "id": "3ab4fadd",
   "metadata": {},
   "outputs": [
    {
     "data": {
      "text/plain": [
       "3287"
      ]
     },
     "execution_count": 15,
     "metadata": {},
     "output_type": "execute_result"
    }
   ],
   "source": [
    "len(products)"
   ]
  },
  {
   "cell_type": "markdown",
   "id": "bc63c017",
   "metadata": {},
   "source": [
    "<strong>Observation :</strong> Les clés primaires des dataframes <i>customers</i> et <i>products</i> ont des valeurs uniques égales au nombre total de chaque dataframe."
   ]
  },
  {
   "cell_type": "code",
   "execution_count": 51,
   "id": "06a1b774",
   "metadata": {},
   "outputs": [
    {
     "data": {
      "text/plain": [
       "3266"
      ]
     },
     "execution_count": 51,
     "metadata": {},
     "output_type": "execute_result"
    }
   ],
   "source": [
    "transactions['id_prod'].nunique()"
   ]
  },
  {
   "cell_type": "code",
   "execution_count": 52,
   "id": "a5f1df2c",
   "metadata": {},
   "outputs": [
    {
     "data": {
      "text/plain": [
       "8600"
      ]
     },
     "execution_count": 52,
     "metadata": {},
     "output_type": "execute_result"
    }
   ],
   "source": [
    "transactions['client_id'].nunique()"
   ]
  },
  {
   "cell_type": "code",
   "execution_count": 53,
   "id": "1f506145",
   "metadata": {},
   "outputs": [
    {
     "data": {
      "text/plain": [
       "679332"
      ]
     },
     "execution_count": 53,
     "metadata": {},
     "output_type": "execute_result"
    }
   ],
   "source": [
    "len(transactions)"
   ]
  },
  {
   "cell_type": "markdown",
   "id": "9c6c2140",
   "metadata": {},
   "source": [
    "**Observation :** Les clés secondaires du dataframe <i>transactions</i> ont des valeurs uniques restreintes par rapport au nombre total du dataframe. "
   ]
  },
  {
   "cell_type": "markdown",
   "id": "cfa3c263",
   "metadata": {},
   "source": [
    "## Nettoyage"
   ]
  },
  {
   "cell_type": "markdown",
   "id": "5f5440ed",
   "metadata": {},
   "source": [
    "* Vérification et correction des erreurs de types :"
   ]
  },
  {
   "cell_type": "code",
   "execution_count": 3,
   "id": "dae227e9",
   "metadata": {},
   "outputs": [
    {
     "data": {
      "text/plain": [
       "client_id    object\n",
       "sex          object\n",
       "birth         int64\n",
       "dtype: object"
      ]
     },
     "execution_count": 3,
     "metadata": {},
     "output_type": "execute_result"
    }
   ],
   "source": [
    "customers.dtypes"
   ]
  },
  {
   "cell_type": "code",
   "execution_count": 4,
   "id": "fa735b13",
   "metadata": {},
   "outputs": [
    {
     "data": {
      "text/plain": [
       "id_prod     object\n",
       "price      float64\n",
       "categ        int64\n",
       "dtype: object"
      ]
     },
     "execution_count": 4,
     "metadata": {},
     "output_type": "execute_result"
    }
   ],
   "source": [
    "products.dtypes"
   ]
  },
  {
   "cell_type": "code",
   "execution_count": 9,
   "id": "5c267a74",
   "metadata": {},
   "outputs": [
    {
     "data": {
      "text/plain": [
       "id_prod       object\n",
       "date          object\n",
       "session_id    object\n",
       "client_id     object\n",
       "dtype: object"
      ]
     },
     "execution_count": 9,
     "metadata": {},
     "output_type": "execute_result"
    }
   ],
   "source": [
    "transactions.dtypes"
   ]
  },
  {
   "cell_type": "markdown",
   "id": "b37a28be",
   "metadata": {},
   "source": [
    "**Observation :** <i>transactions['date']</i> a une erreur de type. Pour le modifier, il faut supprimer d'abord les chaînes de caratères des valeurs afin qu'elles soient exploitables."
   ]
  },
  {
   "cell_type": "code",
   "execution_count": 4,
   "id": "8001e7fe",
   "metadata": {},
   "outputs": [],
   "source": [
    "transactions = transactions[transactions['date'].map(lambda x: 'test' not in x)]"
   ]
  },
  {
   "cell_type": "code",
   "execution_count": 5,
   "id": "afdaf92d",
   "metadata": {},
   "outputs": [],
   "source": [
    "transactions['date'] = pd.to_datetime(transactions['date'])"
   ]
  },
  {
   "cell_type": "code",
   "execution_count": 6,
   "id": "581b98d0",
   "metadata": {},
   "outputs": [
    {
     "data": {
      "text/plain": [
       "id_prod               object\n",
       "date          datetime64[ns]\n",
       "session_id            object\n",
       "client_id             object\n",
       "dtype: object"
      ]
     },
     "execution_count": 6,
     "metadata": {},
     "output_type": "execute_result"
    }
   ],
   "source": [
    "transactions.dtypes"
   ]
  },
  {
   "cell_type": "markdown",
   "id": "024aee9e",
   "metadata": {},
   "source": [
    "<u>**Conclusion :**</u> Les erreurs de types ont été corrigées."
   ]
  },
  {
   "cell_type": "markdown",
   "id": "484d7089",
   "metadata": {},
   "source": [
    "* Doublons :"
   ]
  },
  {
   "cell_type": "code",
   "execution_count": 6,
   "id": "ebe8f6f2",
   "metadata": {},
   "outputs": [
    {
     "data": {
      "text/html": [
       "<div>\n",
       "<style scoped>\n",
       "    .dataframe tbody tr th:only-of-type {\n",
       "        vertical-align: middle;\n",
       "    }\n",
       "\n",
       "    .dataframe tbody tr th {\n",
       "        vertical-align: top;\n",
       "    }\n",
       "\n",
       "    .dataframe thead th {\n",
       "        text-align: right;\n",
       "    }\n",
       "</style>\n",
       "<table border=\"1\" class=\"dataframe\">\n",
       "  <thead>\n",
       "    <tr style=\"text-align: right;\">\n",
       "      <th></th>\n",
       "      <th>id_prod</th>\n",
       "      <th>price</th>\n",
       "      <th>categ</th>\n",
       "    </tr>\n",
       "  </thead>\n",
       "  <tbody>\n",
       "  </tbody>\n",
       "</table>\n",
       "</div>"
      ],
      "text/plain": [
       "Empty DataFrame\n",
       "Columns: [id_prod, price, categ]\n",
       "Index: []"
      ]
     },
     "execution_count": 6,
     "metadata": {},
     "output_type": "execute_result"
    }
   ],
   "source": [
    "products.loc[products[['id_prod', 'price','categ']].duplicated(keep=False),:]"
   ]
  },
  {
   "cell_type": "code",
   "execution_count": 7,
   "id": "9d4bb7f5",
   "metadata": {},
   "outputs": [
    {
     "data": {
      "text/html": [
       "<div>\n",
       "<style scoped>\n",
       "    .dataframe tbody tr th:only-of-type {\n",
       "        vertical-align: middle;\n",
       "    }\n",
       "\n",
       "    .dataframe tbody tr th {\n",
       "        vertical-align: top;\n",
       "    }\n",
       "\n",
       "    .dataframe thead th {\n",
       "        text-align: right;\n",
       "    }\n",
       "</style>\n",
       "<table border=\"1\" class=\"dataframe\">\n",
       "  <thead>\n",
       "    <tr style=\"text-align: right;\">\n",
       "      <th></th>\n",
       "      <th>client_id</th>\n",
       "      <th>sex</th>\n",
       "      <th>birth</th>\n",
       "    </tr>\n",
       "  </thead>\n",
       "  <tbody>\n",
       "  </tbody>\n",
       "</table>\n",
       "</div>"
      ],
      "text/plain": [
       "Empty DataFrame\n",
       "Columns: [client_id, sex, birth]\n",
       "Index: []"
      ]
     },
     "execution_count": 7,
     "metadata": {},
     "output_type": "execute_result"
    }
   ],
   "source": [
    "customers.loc[customers[['client_id','sex','birth']].duplicated(keep=False),:]"
   ]
  },
  {
   "cell_type": "code",
   "execution_count": 8,
   "id": "0e4bfbda",
   "metadata": {},
   "outputs": [
    {
     "data": {
      "text/html": [
       "<div>\n",
       "<style scoped>\n",
       "    .dataframe tbody tr th:only-of-type {\n",
       "        vertical-align: middle;\n",
       "    }\n",
       "\n",
       "    .dataframe tbody tr th {\n",
       "        vertical-align: top;\n",
       "    }\n",
       "\n",
       "    .dataframe thead th {\n",
       "        text-align: right;\n",
       "    }\n",
       "</style>\n",
       "<table border=\"1\" class=\"dataframe\">\n",
       "  <thead>\n",
       "    <tr style=\"text-align: right;\">\n",
       "      <th></th>\n",
       "      <th>id_prod</th>\n",
       "      <th>date</th>\n",
       "      <th>session_id</th>\n",
       "      <th>client_id</th>\n",
       "    </tr>\n",
       "  </thead>\n",
       "  <tbody>\n",
       "  </tbody>\n",
       "</table>\n",
       "</div>"
      ],
      "text/plain": [
       "Empty DataFrame\n",
       "Columns: [id_prod, date, session_id, client_id]\n",
       "Index: []"
      ]
     },
     "execution_count": 8,
     "metadata": {},
     "output_type": "execute_result"
    }
   ],
   "source": [
    "transactions.loc[transactions[['id_prod','date','session_id','client_id']].duplicated(keep=False),:]"
   ]
  },
  {
   "cell_type": "markdown",
   "id": "9f59c08c",
   "metadata": {},
   "source": [
    "<u>**Conclusion :**</u> Il n'y a pas de doublons dans les dataframes."
   ]
  },
  {
   "cell_type": "markdown",
   "id": "aa16ccd6",
   "metadata": {},
   "source": [
    "* Outliers"
   ]
  },
  {
   "cell_type": "code",
   "execution_count": 9,
   "id": "f5dee1b9",
   "metadata": {},
   "outputs": [
    {
     "data": {
      "text/plain": [
       "count    3287.000000\n",
       "mean       21.856641\n",
       "std        29.847908\n",
       "min        -1.000000\n",
       "25%         6.990000\n",
       "50%        13.060000\n",
       "75%        22.990000\n",
       "max       300.000000\n",
       "Name: price, dtype: float64"
      ]
     },
     "execution_count": 9,
     "metadata": {},
     "output_type": "execute_result"
    }
   ],
   "source": [
    "products['price'].describe()"
   ]
  },
  {
   "cell_type": "markdown",
   "id": "169ef596",
   "metadata": {},
   "source": [
    "**Observation :** Il y a une incohérence dans le minimun du prix des produits. Je supprime toutes les valeurs aberrantes en-dessous de 0."
   ]
  },
  {
   "cell_type": "code",
   "execution_count": 6,
   "id": "2601d27f",
   "metadata": {},
   "outputs": [
    {
     "data": {
      "text/html": [
       "<div>\n",
       "<style scoped>\n",
       "    .dataframe tbody tr th:only-of-type {\n",
       "        vertical-align: middle;\n",
       "    }\n",
       "\n",
       "    .dataframe tbody tr th {\n",
       "        vertical-align: top;\n",
       "    }\n",
       "\n",
       "    .dataframe thead th {\n",
       "        text-align: right;\n",
       "    }\n",
       "</style>\n",
       "<table border=\"1\" class=\"dataframe\">\n",
       "  <thead>\n",
       "    <tr style=\"text-align: right;\">\n",
       "      <th></th>\n",
       "      <th>id_prod</th>\n",
       "      <th>price</th>\n",
       "      <th>categ</th>\n",
       "    </tr>\n",
       "  </thead>\n",
       "  <tbody>\n",
       "    <tr>\n",
       "      <th>731</th>\n",
       "      <td>T_0</td>\n",
       "      <td>-1.0</td>\n",
       "      <td>0</td>\n",
       "    </tr>\n",
       "  </tbody>\n",
       "</table>\n",
       "</div>"
      ],
      "text/plain": [
       "    id_prod  price  categ\n",
       "731     T_0   -1.0      0"
      ]
     },
     "execution_count": 6,
     "metadata": {},
     "output_type": "execute_result"
    }
   ],
   "source": [
    "products.loc[products['price'] == -1,:]"
   ]
  },
  {
   "cell_type": "code",
   "execution_count": 7,
   "id": "c4c3f5bb",
   "metadata": {},
   "outputs": [
    {
     "name": "stdout",
     "output_type": "stream",
     "text": [
      "['T_0']\n"
     ]
    }
   ],
   "source": [
    "list_product = list(filter(lambda x: 'T' in x, products['id_prod']))\n",
    "print(list_product)"
   ]
  },
  {
   "cell_type": "code",
   "execution_count": 8,
   "id": "915fc63b",
   "metadata": {},
   "outputs": [],
   "source": [
    "products = products[products['id_prod'].map(lambda x: 'T' not in x)]"
   ]
  },
  {
   "cell_type": "code",
   "execution_count": 10,
   "id": "7bab5b4e",
   "metadata": {},
   "outputs": [
    {
     "data": {
      "text/plain": [
       "count    3286.000000\n",
       "mean       21.863597\n",
       "std        29.849786\n",
       "min         0.620000\n",
       "25%         6.990000\n",
       "50%        13.075000\n",
       "75%        22.990000\n",
       "max       300.000000\n",
       "Name: price, dtype: float64"
      ]
     },
     "execution_count": 10,
     "metadata": {},
     "output_type": "execute_result"
    }
   ],
   "source": [
    "products['price'].describe()"
   ]
  },
  {
   "cell_type": "markdown",
   "id": "f5d2c6d5",
   "metadata": {},
   "source": [
    "<u>**Conclusion :**</u> Le minimun de prix est maintenant cohérent."
   ]
  },
  {
   "cell_type": "markdown",
   "id": "6e7ae91c",
   "metadata": {},
   "source": [
    "    - Méthode de l'écart interquartile"
   ]
  },
  {
   "cell_type": "markdown",
   "id": "427fa543",
   "metadata": {},
   "source": [
    "Deux méthodes sont testées."
   ]
  },
  {
   "cell_type": "code",
   "execution_count": 9,
   "id": "6685a217",
   "metadata": {},
   "outputs": [
    {
     "data": {
      "text/plain": [
       "array([ 6.99, 22.99])"
      ]
     },
     "execution_count": 9,
     "metadata": {},
     "output_type": "execute_result"
    }
   ],
   "source": [
    "np.percentile(products['price'],[25,75])"
   ]
  },
  {
   "cell_type": "code",
   "execution_count": 10,
   "id": "61c9459a",
   "metadata": {},
   "outputs": [
    {
     "name": "stdout",
     "output_type": "stream",
     "text": [
      "15.999999999999998\n"
     ]
    }
   ],
   "source": [
    "q1, q3= np.percentile(products['price'],[25,75])\n",
    "iqr = q3 - q1\n",
    "print(iqr)"
   ]
  },
  {
   "cell_type": "code",
   "execution_count": 11,
   "id": "cb24ff40",
   "metadata": {},
   "outputs": [
    {
     "name": "stdout",
     "output_type": "stream",
     "text": [
      "-17.009999999999998\n",
      "46.989999999999995\n"
     ]
    }
   ],
   "source": [
    "lower_bound = q1 -(1.5 * iqr) \n",
    "upper_bound = q3 +(1.5 * iqr) \n",
    "print(lower_bound)\n",
    "print(upper_bound)"
   ]
  },
  {
   "cell_type": "code",
   "execution_count": 12,
   "id": "6775c2ff",
   "metadata": {},
   "outputs": [
    {
     "name": "stdout",
     "output_type": "stream",
     "text": [
      "     id_prod   price  categ\n",
      "947      2_2  300.00      2\n",
      "724     2_76  254.44      2\n",
      "394    2_158  247.22      2\n",
      "1436   2_167  236.99      2\n",
      "2779    2_30  233.54      2\n",
      "...      ...     ...    ...\n",
      "3169   1_626   47.35      1\n",
      "2966   1_620   47.30      1\n",
      "49      1_48   47.22      1\n",
      "2266   1_569   46.99      1\n",
      "1164   2_155   46.99      2\n",
      "\n",
      "[302 rows x 3 columns]\n",
      "\u001b[1mNombre d'outliers : \u001b[0m 302\n"
     ]
    }
   ],
   "source": [
    "out_upper_bound = products.loc[products['price'] > upper_bound]\n",
    "print(out_upper_bound.sort_values('price',ascending=False))\n",
    "print(color.BOLD + 'Nombre d\\'outliers : ' + color.END, len(out_upper_bound))"
   ]
  },
  {
   "cell_type": "code",
   "execution_count": 13,
   "id": "e137cb73",
   "metadata": {},
   "outputs": [
    {
     "name": "stdout",
     "output_type": "stream",
     "text": [
      "Empty DataFrame\n",
      "Columns: [id_prod, price, categ]\n",
      "Index: []\n",
      "\u001b[1mNombre d'outliers : \u001b[0m 0\n"
     ]
    }
   ],
   "source": [
    "out_lower_bound = products.loc[products['price'] < lower_bound]\n",
    "print(out_lower_bound.sort_values('price', ascending=False))\n",
    "print(color.BOLD + 'Nombre d\\'outliers : ' + color.END , len(out_lower_bound))"
   ]
  },
  {
   "cell_type": "markdown",
   "id": "af2981ab",
   "metadata": {},
   "source": [
    "    - Méthode Zscore"
   ]
  },
  {
   "cell_type": "code",
   "execution_count": 14,
   "id": "231c90aa",
   "metadata": {},
   "outputs": [
    {
     "name": "stdout",
     "output_type": "stream",
     "text": [
      "\u001b[1mMean : \u001b[0m 21.863597078514857\n",
      "\u001b[1mstd. : \u001b[0m 29.845243318099012\n"
     ]
    }
   ],
   "source": [
    "mean = np.mean(products['price'])\n",
    "std = np.std(products['price'])\n",
    "print(color.BOLD + 'Mean : ' + color.END, mean)\n",
    "print(color.BOLD + 'std. : ' + color.END, std)"
   ]
  },
  {
   "cell_type": "code",
   "execution_count": 15,
   "id": "df3eddf8",
   "metadata": {},
   "outputs": [
    {
     "name": "stdout",
     "output_type": "stream",
     "text": [
      "\u001b[1mOutliers du dataframe : \n",
      "\u001b[0m [225.17, 107.99, 157.99, 157.99, 201.74, 156.99, 134.57, 157.99, 158.17, 127.99, 88.99, 167.49, 111.99, 103.99, 82.99, 157.42, 115.3, 247.22, 83.99, 86.99, 162.03, 127.39, 89.43, 104.78, 116.98, 130.99, 170.99, 109.99, 131.99, 145.45, 130.99, 175.99, 254.44, 96.56, 86.99, 228.11, 181.99, 103.92, 106.52, 84.29, 93.99, 172.99, 110.08, 300.0, 98.99, 191.99, 116.99, 86.99, 157.63, 110.98, 89.54, 83.51, 155.99, 118.51, 104.06, 203.99, 145.99, 142.99, 123.99, 176.2, 175.67, 163.94, 104.76, 236.99, 100.56, 111.72, 100.99, 128.99, 142.99, 96.99, 189.99, 85.28, 220.99, 116.67, 182.3, 119.07, 85.27, 139.99, 83.63, 136.99, 222.97, 103.58, 87.4, 96.99, 114.99, 120.22, 141.32, 231.99, 101.99, 96.74, 93.48, 164.99, 105.99, 136.07, 136.99, 111.99, 182.3, 139.99, 88.99, 85.89, 129.11, 130.8, 150.72, 166.21, 99.99, 84.99, 90.99, 114.99, 111.99, 124.99, 96.88, 84.96, 202.99, 188.48, 230.04, 129.74, 132.36, 91.82, 130.99, 120.61, 142.99, 104.99, 115.75, 160.99, 138.53, 158.99, 105.99, 233.54, 138.32, 108.99, 103.99, 101.51, 150.69, 127.99, 84.02, 113.99, 120.68, 115.93, 125.99, 103.5, 145.99, 109.38, 195.99, 88.29, 132.52, 102.99, 96.69, 102.82, 149.74, 103.92, 142.58, 201.99, 105.24, 84.99, 93.92, 147.99, 115.99]\n"
     ]
    }
   ],
   "source": [
    "threshold = 2\n",
    "outlier = []\n",
    "for i in products['price']:\n",
    "    z = (i-mean)/std\n",
    "    if z > threshold:\n",
    "        outlier.append(i)\n",
    "print(color.BOLD +'Outliers du dataframe : \\n' + color.END, outlier)"
   ]
  },
  {
   "cell_type": "code",
   "execution_count": 16,
   "id": "a14b7472",
   "metadata": {},
   "outputs": [
    {
     "name": "stdout",
     "output_type": "stream",
     "text": [
      "\u001b[1mNombre d'outliers : \u001b[0m 157\n"
     ]
    }
   ],
   "source": [
    "print(color.BOLD + 'Nombre d\\'outliers : ' + color.END, len(outlier))"
   ]
  },
  {
   "cell_type": "code",
   "execution_count": 17,
   "id": "1aae4662",
   "metadata": {},
   "outputs": [
    {
     "data": {
      "image/png": "[encoded data removed]",
      "text/plain": [
       "<Figure size 432x288 with 1 Axes>"
      ]
     },
     "metadata": {
      "needs_background": "light"
     },
     "output_type": "display_data"
    }
   ],
   "source": [
    "products.boxplot(column=\"price\", vert=False)\n",
    "plt.show()"
   ]
  },
  {
   "cell_type": "markdown",
   "id": "d292080d",
   "metadata": {},
   "source": [
    "<u>**Conclusion :**</u> Les outliers trouvés ne sont pas aberrants. Ils sont gardés dans le dataframe."
   ]
  },
  {
   "cell_type": "markdown",
   "id": "9a544774",
   "metadata": {},
   "source": [
    "## Analyse des requêtes"
   ]
  },
  {
   "cell_type": "markdown",
   "id": "74e81f99",
   "metadata": {},
   "source": [
    "*  Analyse univarié du Chiffre d'affaire"
   ]
  },
  {
   "cell_type": "code",
   "execution_count": 48,
   "id": "44180e5f",
   "metadata": {},
   "outputs": [
    {
     "data": {
      "text/html": [
       "<div>\n",
       "<style scoped>\n",
       "    .dataframe tbody tr th:only-of-type {\n",
       "        vertical-align: middle;\n",
       "    }\n",
       "\n",
       "    .dataframe tbody tr th {\n",
       "        vertical-align: top;\n",
       "    }\n",
       "\n",
       "    .dataframe thead th {\n",
       "        text-align: right;\n",
       "    }\n",
       "</style>\n",
       "<table border=\"1\" class=\"dataframe\">\n",
       "  <thead>\n",
       "    <tr style=\"text-align: right;\">\n",
       "      <th></th>\n",
       "      <th>id_prod</th>\n",
       "      <th>date</th>\n",
       "      <th>session_id</th>\n",
       "      <th>client_id</th>\n",
       "      <th>price</th>\n",
       "      <th>categ</th>\n",
       "      <th>sex</th>\n",
       "      <th>birth</th>\n",
       "    </tr>\n",
       "  </thead>\n",
       "  <tbody>\n",
       "    <tr>\n",
       "      <th>0</th>\n",
       "      <td>0_1518</td>\n",
       "      <td>2022-05-20 13:21:29.043970</td>\n",
       "      <td>s_211425</td>\n",
       "      <td>c_103</td>\n",
       "      <td>4.18</td>\n",
       "      <td>0</td>\n",
       "      <td>f</td>\n",
       "      <td>1986</td>\n",
       "    </tr>\n",
       "    <tr>\n",
       "      <th>1</th>\n",
       "      <td>0_1518</td>\n",
       "      <td>2021-07-20 13:21:29.043970</td>\n",
       "      <td>s_64849</td>\n",
       "      <td>c_103</td>\n",
       "      <td>4.18</td>\n",
       "      <td>0</td>\n",
       "      <td>f</td>\n",
       "      <td>1986</td>\n",
       "    </tr>\n",
       "    <tr>\n",
       "      <th>2</th>\n",
       "      <td>0_1518</td>\n",
       "      <td>2022-08-20 13:21:29.043970</td>\n",
       "      <td>s_255965</td>\n",
       "      <td>c_103</td>\n",
       "      <td>4.18</td>\n",
       "      <td>0</td>\n",
       "      <td>f</td>\n",
       "      <td>1986</td>\n",
       "    </tr>\n",
       "    <tr>\n",
       "      <th>3</th>\n",
       "      <td>0_1418</td>\n",
       "      <td>2022-06-18 01:49:37.823274</td>\n",
       "      <td>s_225411</td>\n",
       "      <td>c_103</td>\n",
       "      <td>8.57</td>\n",
       "      <td>0</td>\n",
       "      <td>f</td>\n",
       "      <td>1986</td>\n",
       "    </tr>\n",
       "    <tr>\n",
       "      <th>4</th>\n",
       "      <td>0_1418</td>\n",
       "      <td>2021-08-18 01:49:37.823274</td>\n",
       "      <td>s_77214</td>\n",
       "      <td>c_103</td>\n",
       "      <td>8.57</td>\n",
       "      <td>0</td>\n",
       "      <td>f</td>\n",
       "      <td>1986</td>\n",
       "    </tr>\n",
       "    <tr>\n",
       "      <th>...</th>\n",
       "      <td>...</td>\n",
       "      <td>...</td>\n",
       "      <td>...</td>\n",
       "      <td>...</td>\n",
       "      <td>...</td>\n",
       "      <td>...</td>\n",
       "      <td>...</td>\n",
       "      <td>...</td>\n",
       "    </tr>\n",
       "    <tr>\n",
       "      <th>679106</th>\n",
       "      <td>2_147</td>\n",
       "      <td>2021-07-23 07:01:38.963669</td>\n",
       "      <td>s_65994</td>\n",
       "      <td>c_4391</td>\n",
       "      <td>181.99</td>\n",
       "      <td>2</td>\n",
       "      <td>f</td>\n",
       "      <td>2001</td>\n",
       "    </tr>\n",
       "    <tr>\n",
       "      <th>679107</th>\n",
       "      <td>0_142</td>\n",
       "      <td>2022-03-25 18:07:25.880052</td>\n",
       "      <td>s_184472</td>\n",
       "      <td>c_1232</td>\n",
       "      <td>19.85</td>\n",
       "      <td>0</td>\n",
       "      <td>f</td>\n",
       "      <td>1960</td>\n",
       "    </tr>\n",
       "    <tr>\n",
       "      <th>679108</th>\n",
       "      <td>0_142</td>\n",
       "      <td>2021-09-25 18:07:25.880052</td>\n",
       "      <td>s_95415</td>\n",
       "      <td>c_1232</td>\n",
       "      <td>19.85</td>\n",
       "      <td>0</td>\n",
       "      <td>f</td>\n",
       "      <td>1960</td>\n",
       "    </tr>\n",
       "    <tr>\n",
       "      <th>679109</th>\n",
       "      <td>2_205</td>\n",
       "      <td>2021-03-11 00:11:32.016264</td>\n",
       "      <td>s_4605</td>\n",
       "      <td>c_7534</td>\n",
       "      <td>100.99</td>\n",
       "      <td>2</td>\n",
       "      <td>m</td>\n",
       "      <td>1992</td>\n",
       "    </tr>\n",
       "    <tr>\n",
       "      <th>679110</th>\n",
       "      <td>2_205</td>\n",
       "      <td>2022-07-11 00:11:32.016264</td>\n",
       "      <td>s_236636</td>\n",
       "      <td>c_7534</td>\n",
       "      <td>100.99</td>\n",
       "      <td>2</td>\n",
       "      <td>m</td>\n",
       "      <td>1992</td>\n",
       "    </tr>\n",
       "  </tbody>\n",
       "</table>\n",
       "<p>679111 rows × 8 columns</p>\n",
       "</div>"
      ],
      "text/plain": [
       "       id_prod                       date session_id client_id   price  categ  \\\n",
       "0       0_1518 2022-05-20 13:21:29.043970   s_211425     c_103    4.18      0   \n",
       "1       0_1518 2021-07-20 13:21:29.043970    s_64849     c_103    4.18      0   \n",
       "2       0_1518 2022-08-20 13:21:29.043970   s_255965     c_103    4.18      0   \n",
       "3       0_1418 2022-06-18 01:49:37.823274   s_225411     c_103    8.57      0   \n",
       "4       0_1418 2021-08-18 01:49:37.823274    s_77214     c_103    8.57      0   \n",
       "...        ...                        ...        ...       ...     ...    ...   \n",
       "679106   2_147 2021-07-23 07:01:38.963669    s_65994    c_4391  181.99      2   \n",
       "679107   0_142 2022-03-25 18:07:25.880052   s_184472    c_1232   19.85      0   \n",
       "679108   0_142 2021-09-25 18:07:25.880052    s_95415    c_1232   19.85      0   \n",
       "679109   2_205 2021-03-11 00:11:32.016264     s_4605    c_7534  100.99      2   \n",
       "679110   2_205 2022-07-11 00:11:32.016264   s_236636    c_7534  100.99      2   \n",
       "\n",
       "       sex  birth  \n",
       "0        f   1986  \n",
       "1        f   1986  \n",
       "2        f   1986  \n",
       "3        f   1986  \n",
       "4        f   1986  \n",
       "...     ..    ...  \n",
       "679106   f   2001  \n",
       "679107   f   1960  \n",
       "679108   f   1960  \n",
       "679109   m   1992  \n",
       "679110   m   1992  \n",
       "\n",
       "[679111 rows x 8 columns]"
      ]
     },
     "execution_count": 48,
     "metadata": {},
     "output_type": "execute_result"
    }
   ],
   "source": [
    "semi_data = transactions.merge(products, how='inner')\n",
    "data_final = semi_data.merge(customers, how='inner')\n",
    "data_final"
   ]
  },
  {
   "cell_type": "code",
   "execution_count": 19,
   "id": "5613e05f",
   "metadata": {},
   "outputs": [
    {
     "name": "stdout",
     "output_type": "stream",
     "text": [
      "\u001b[1mChiffre d'affaires totale : \u001b[0m11853728.680000007\n"
     ]
    }
   ],
   "source": [
    "print(color.BOLD + 'Chiffre d\\'affaires totale : ' + color.END + str(data_final['price'].sum()))"
   ]
  },
  {
   "cell_type": "code",
   "execution_count": 20,
   "id": "9b54e613",
   "metadata": {},
   "outputs": [
    {
     "data": {
      "text/html": [
       "<div>\n",
       "<style scoped>\n",
       "    .dataframe tbody tr th:only-of-type {\n",
       "        vertical-align: middle;\n",
       "    }\n",
       "\n",
       "    .dataframe tbody tr th {\n",
       "        vertical-align: top;\n",
       "    }\n",
       "\n",
       "    .dataframe thead th {\n",
       "        text-align: right;\n",
       "    }\n",
       "</style>\n",
       "<table border=\"1\" class=\"dataframe\">\n",
       "  <thead>\n",
       "    <tr style=\"text-align: right;\">\n",
       "      <th></th>\n",
       "      <th>price</th>\n",
       "    </tr>\n",
       "    <tr>\n",
       "      <th>categ</th>\n",
       "      <th></th>\n",
       "    </tr>\n",
       "  </thead>\n",
       "  <tbody>\n",
       "    <tr>\n",
       "      <th>1</th>\n",
       "      <td>4.653723e+06</td>\n",
       "    </tr>\n",
       "    <tr>\n",
       "      <th>0</th>\n",
       "      <td>4.419731e+06</td>\n",
       "    </tr>\n",
       "    <tr>\n",
       "      <th>2</th>\n",
       "      <td>2.780275e+06</td>\n",
       "    </tr>\n",
       "  </tbody>\n",
       "</table>\n",
       "</div>"
      ],
      "text/plain": [
       "              price\n",
       "categ              \n",
       "1      4.653723e+06\n",
       "0      4.419731e+06\n",
       "2      2.780275e+06"
      ]
     },
     "execution_count": 20,
     "metadata": {},
     "output_type": "execute_result"
    }
   ],
   "source": [
    "data_final[['categ','price']].groupby(by='categ').sum().sort_values('price', ascending=False)"
   ]
  },
  {
   "cell_type": "markdown",
   "id": "8ae3f517",
   "metadata": {},
   "source": [
    "**Observation :** La catégorie 1 a le chiffre d'affaire le plus élevé."
   ]
  },
  {
   "cell_type": "code",
   "execution_count": 147,
   "id": "c89e80d5",
   "metadata": {},
   "outputs": [
    {
     "data": {
      "image/png": "[encoded data removed]",
      "text/plain": [
       "<Figure size 432x288 with 1 Axes>"
      ]
     },
     "metadata": {},
     "output_type": "display_data"
    },
    {
     "data": {
      "text/plain": [
       "Text(0, 0.5, 'Montant des achats')"
      ]
     },
     "execution_count": 147,
     "metadata": {},
     "output_type": "execute_result"
    },
    {
     "data": {
      "image/png": "[encoded data removed]",
      "text/plain": [
       "<Figure size 432x288 with 1 Axes>"
      ]
     },
     "metadata": {},
     "output_type": "display_data"
    }
   ],
   "source": [
    "categ0_ca = data_final.loc[data_final['categ'] == 0, 'price'].sum()\n",
    "categ1_ca = data_final.loc[data_final['categ'] == 1, 'price'].sum()\n",
    "categ2_ca = data_final.loc[data_final['categ'] == 2, 'price'].sum()\n",
    "categ_ca_array = np.array([categ0_ca, categ1_ca, categ2_ca])\n",
    "labels = [' Catégorie 0','Catégorie 1','Catégorie 2']\n",
    "plt.pie(categ_ca_array, labels=labels, autopct='%1.1f%%', pctdistance=0.6, labeldistance=1.2)\n",
    "plt.show()\n",
    "\n",
    "sns.boxplot( x=data_final[\"categ\"], y=data_final[\"price\"] )\n",
    "plt.title('Boxplot des catégories en fonction du montant des achats \\n')\n",
    "plt.xlabel(\"Catégories\")\n",
    "plt.ylabel(\"Montant des achats\")"
   ]
  },
  {
   "cell_type": "markdown",
   "id": "4a23059b",
   "metadata": {},
   "source": [
    "**Observations :** La <i>Catégorie 1</i> occupe la partie la plus élevé du chiffre d'affaires (<i>39,3%</i>). <br/>\n",
    "    La <i>Catégorie 2</i> bien qu'ayant le chiffre d'affaire le plus faible (<i>23,5%</i>), elle a les montants d'achats les plus élevé."
   ]
  },
  {
   "cell_type": "code",
   "execution_count": 47,
   "id": "627c8023",
   "metadata": {},
   "outputs": [
    {
     "name": "stdout",
     "output_type": "stream",
     "text": [
      "--------------------\n",
      "\u001b[4mCatégorie 0 \n",
      "\u001b[0m\n",
      "\u001b[1mMoyenne :\n",
      "\u001b[0m 10.638\n",
      "\u001b[1mmediane :\n",
      "\u001b[0m 9.99\n",
      "\u001b[1mMode :\n",
      "\u001b[0m 0    4.99\n",
      "dtype: float64\n"
     ]
    },
    {
     "data": {
      "image/png": "[encoded data removed]",
      "text/plain": [
       "<Figure size 432x288 with 1 Axes>"
      ]
     },
     "metadata": {},
     "output_type": "display_data"
    },
    {
     "name": "stdout",
     "output_type": "stream",
     "text": [
      "--------------------\n",
      "\u001b[4mCatégorie 1 \n",
      "\u001b[0m\n",
      "\u001b[1mMoyenne :\n",
      "\u001b[0m 20.486\n",
      "\u001b[1mmediane :\n",
      "\u001b[0m 19.08\n",
      "\u001b[1mMode :\n",
      "\u001b[0m 0    15.99\n",
      "dtype: float64\n"
     ]
    },
    {
     "data": {
      "image/png": "[encoded data removed]",
      "text/plain": [
       "<Figure size 432x288 with 1 Axes>"
      ]
     },
     "metadata": {},
     "output_type": "display_data"
    },
    {
     "name": "stdout",
     "output_type": "stream",
     "text": [
      "--------------------\n",
      "\u001b[4mCatégorie 2 \n",
      "\u001b[0m\n",
      "\u001b[1mMoyenne :\n",
      "\u001b[0m 76.207\n",
      "\u001b[1mmediane :\n",
      "\u001b[0m 62.83\n",
      "\u001b[1mMode :\n",
      "\u001b[0m 0    68.99\n",
      "dtype: float64\n"
     ]
    },
    {
     "data": {
      "image/png": "[encoded data removed]",
      "text/plain": [
       "<Figure size 432x288 with 1 Axes>"
      ]
     },
     "metadata": {},
     "output_type": "display_data"
    }
   ],
   "source": [
    "for cat in data_final[\"categ\"].unique():\n",
    "    subset = data_final.loc[data_final.categ == cat, :] # Création du sous-échantillon\n",
    "    print(\"-\"*20)\n",
    "    print(color.UNDERLINE + 'Catégorie' ,cat,'\\n' + color.END)\n",
    "    print(color.BOLD + \"Moyenne :\\n\" + color.END,round(subset['price'].mean(),3))\n",
    "    print(color.BOLD + \"mediane :\\n\" + color.END,subset['price'].median())\n",
    "    print(color.BOLD + \"Mode :\\n\" + color.END,subset['price'].mode())\n",
    "    subset[\"price\"].hist() # Crée l'histogramme\n",
    "    plt.show() # Affiche l'histogramme"
   ]
  },
  {
   "cell_type": "markdown",
   "id": "bc081505",
   "metadata": {},
   "source": [
    "**Observation :** <br/>\n",
    "La <i>Catégorie 0</i> a le montant d'achats le plus élevé entre 5 et 10. <br/>\n",
    "La <i>Catégorie 1</i> a le montant d'achats le plus élevé entre 10 et 20. <br/>\n",
    "La <i>Catégorie 2</i> a le montant d'achats le plus élevé entre 50 et 100."
   ]
  },
  {
   "cell_type": "markdown",
   "id": "453dfcc0",
   "metadata": {},
   "source": [
    "* Le nombre de produits par catégorie"
   ]
  },
  {
   "cell_type": "code",
   "execution_count": 22,
   "id": "1edfc223",
   "metadata": {},
   "outputs": [
    {
     "data": {
      "text/html": [
       "<div>\n",
       "<style scoped>\n",
       "    .dataframe tbody tr th:only-of-type {\n",
       "        vertical-align: middle;\n",
       "    }\n",
       "\n",
       "    .dataframe tbody tr th {\n",
       "        vertical-align: top;\n",
       "    }\n",
       "\n",
       "    .dataframe thead th {\n",
       "        text-align: right;\n",
       "    }\n",
       "</style>\n",
       "<table border=\"1\" class=\"dataframe\">\n",
       "  <thead>\n",
       "    <tr style=\"text-align: right;\">\n",
       "      <th></th>\n",
       "      <th>id_prod</th>\n",
       "    </tr>\n",
       "    <tr>\n",
       "      <th>categ</th>\n",
       "      <th></th>\n",
       "    </tr>\n",
       "  </thead>\n",
       "  <tbody>\n",
       "    <tr>\n",
       "      <th>0</th>\n",
       "      <td>415459</td>\n",
       "    </tr>\n",
       "    <tr>\n",
       "      <th>1</th>\n",
       "      <td>227169</td>\n",
       "    </tr>\n",
       "    <tr>\n",
       "      <th>2</th>\n",
       "      <td>36483</td>\n",
       "    </tr>\n",
       "  </tbody>\n",
       "</table>\n",
       "</div>"
      ],
      "text/plain": [
       "       id_prod\n",
       "categ         \n",
       "0       415459\n",
       "1       227169\n",
       "2        36483"
      ]
     },
     "execution_count": 22,
     "metadata": {},
     "output_type": "execute_result"
    }
   ],
   "source": [
    "data_final[[\"categ\",\"id_prod\"]].groupby(by='categ').count().sort_values('id_prod',ascending=False)"
   ]
  },
  {
   "cell_type": "code",
   "execution_count": 23,
   "id": "4031dfb1",
   "metadata": {},
   "outputs": [
    {
     "data": {
      "image/png": "[encoded data removed]",
      "text/plain": [
       "<Figure size 432x288 with 1 Axes>"
      ]
     },
     "metadata": {},
     "output_type": "display_data"
    }
   ],
   "source": [
    "categ0 = data_final.loc[data_final['categ'] == 0, 'id_prod'].count()\n",
    "categ1 = data_final.loc[data_final['categ'] == 1, 'id_prod'].count()\n",
    "categ2 = data_final.loc[data_final['categ'] == 2, 'id_prod'].count()\n",
    "categ_array = np.array([categ0, categ1, categ2])\n",
    "labels = ['Catégorie 0','Catégorie 1','Catégorie 2']\n",
    "plt.pie(categ_array, labels=labels, autopct='%1.1f%%', pctdistance=0.6, labeldistance=1.2)\n",
    "plt.show()"
   ]
  },
  {
   "cell_type": "markdown",
   "id": "914bf72b",
   "metadata": {},
   "source": [
    "**Observation :** La <i>catégorie 0</i> occupe **61.2 %** des produits présents."
   ]
  },
  {
   "cell_type": "markdown",
   "id": "00185e55",
   "metadata": {},
   "source": [
    "## Analyse de l'évolution du chiffre d'affaire dans le temps"
   ]
  },
  {
   "cell_type": "markdown",
   "id": "fca61164",
   "metadata": {},
   "source": [
    "Création d'une colonne '<i>date_new_format</i>' pour une meilleur utilisation des dates."
   ]
  },
  {
   "cell_type": "code",
   "execution_count": 84,
   "id": "e76b6dbc",
   "metadata": {},
   "outputs": [
    {
     "data": {
      "text/plain": [
       "0         2022/05/20\n",
       "1         2021/07/20\n",
       "2         2022/08/20\n",
       "3         2022/06/18\n",
       "4         2021/08/18\n",
       "             ...    \n",
       "679106    2021/07/23\n",
       "679107    2022/03/25\n",
       "679108    2021/09/25\n",
       "679109    2021/03/11\n",
       "679110    2022/07/11\n",
       "Name: date_new_format, Length: 679111, dtype: object"
      ]
     },
     "execution_count": 84,
     "metadata": {},
     "output_type": "execute_result"
    }
   ],
   "source": [
    "data_final['date_new_format'] = data_final['date'].dt.strftime('%Y/%m/%d')\n",
    "data_final['date_new_format']"
   ]
  },
  {
   "cell_type": "markdown",
   "id": "c17cd609",
   "metadata": {},
   "source": [
    "Modification du type de '<i>date_new_format</i>'."
   ]
  },
  {
   "cell_type": "code",
   "execution_count": 85,
   "id": "4496f395",
   "metadata": {},
   "outputs": [],
   "source": [
    "data_final['date_new_format'] = pd.to_datetime(data_final['date_new_format'])"
   ]
  },
  {
   "cell_type": "code",
   "execution_count": 104,
   "id": "612d69e9",
   "metadata": {},
   "outputs": [
    {
     "data": {
      "text/plain": [
       "[Text(0.5, 1.0, 'Lineplot des prix en fontion du temps \\n')]"
      ]
     },
     "execution_count": 104,
     "metadata": {},
     "output_type": "execute_result"
    },
    {
     "data": {
      "image/png": "[encoded data removed]",
      "text/plain": [
       "<Figure size 432x288 with 1 Axes>"
      ]
     },
     "metadata": {},
     "output_type": "display_data"
    }
   ],
   "source": [
    "sns.set_theme(style=\"whitegrid\")\n",
    "\n",
    "price = data_final[data_final['price'] > 0]['price']\n",
    "dates = data_final[data_final['date_new_format'] > '2020-03-01']['date_new_format']\n",
    "data = pd.DataFrame(price.to_numpy(), dates, columns=[\"price\"])\n",
    "data = data.rolling(7).mean()\n",
    "sns.lineplot(data=data, palette=\"tab10\", linewidth=1.5).set(title='Lineplot des prix en fontion du temps \\n')"
   ]
  },
  {
   "cell_type": "markdown",
   "id": "2889f9ac",
   "metadata": {},
   "source": [
    "**Observation :** On observe une chute des achats en <i>octobre 2021</i>."
   ]
  },
  {
   "cell_type": "markdown",
   "id": "9bf697f2",
   "metadata": {},
   "source": [
    "## Décomposition en moyenne mobile"
   ]
  },
  {
   "cell_type": "markdown",
   "id": "6ac154bd",
   "metadata": {},
   "source": [
    "### Décomposition saisonnière des transactions"
   ]
  },
  {
   "cell_type": "code",
   "execution_count": 86,
   "id": "b4927c8a",
   "metadata": {},
   "outputs": [
    {
     "data": {
      "text/html": [
       "<div>\n",
       "<style scoped>\n",
       "    .dataframe tbody tr th:only-of-type {\n",
       "        vertical-align: middle;\n",
       "    }\n",
       "\n",
       "    .dataframe tbody tr th {\n",
       "        vertical-align: top;\n",
       "    }\n",
       "\n",
       "    .dataframe thead th {\n",
       "        text-align: right;\n",
       "    }\n",
       "</style>\n",
       "<table border=\"1\" class=\"dataframe\">\n",
       "  <thead>\n",
       "    <tr style=\"text-align: right;\">\n",
       "      <th></th>\n",
       "      <th>date_new_format</th>\n",
       "      <th>transactions</th>\n",
       "    </tr>\n",
       "    <tr>\n",
       "      <th>date_new_format</th>\n",
       "      <th></th>\n",
       "      <th></th>\n",
       "    </tr>\n",
       "  </thead>\n",
       "  <tbody>\n",
       "    <tr>\n",
       "      <th>2021-03-01</th>\n",
       "      <td>2021-03-01</td>\n",
       "      <td>962</td>\n",
       "    </tr>\n",
       "    <tr>\n",
       "      <th>2021-03-02</th>\n",
       "      <td>2021-03-02</td>\n",
       "      <td>939</td>\n",
       "    </tr>\n",
       "    <tr>\n",
       "      <th>2021-03-03</th>\n",
       "      <td>2021-03-03</td>\n",
       "      <td>911</td>\n",
       "    </tr>\n",
       "    <tr>\n",
       "      <th>2021-03-04</th>\n",
       "      <td>2021-03-04</td>\n",
       "      <td>903</td>\n",
       "    </tr>\n",
       "    <tr>\n",
       "      <th>2021-03-05</th>\n",
       "      <td>2021-03-05</td>\n",
       "      <td>943</td>\n",
       "    </tr>\n",
       "    <tr>\n",
       "      <th>...</th>\n",
       "      <td>...</td>\n",
       "      <td>...</td>\n",
       "    </tr>\n",
       "    <tr>\n",
       "      <th>2023-02-24</th>\n",
       "      <td>2023-02-24</td>\n",
       "      <td>894</td>\n",
       "    </tr>\n",
       "    <tr>\n",
       "      <th>2023-02-25</th>\n",
       "      <td>2023-02-25</td>\n",
       "      <td>905</td>\n",
       "    </tr>\n",
       "    <tr>\n",
       "      <th>2023-02-26</th>\n",
       "      <td>2023-02-26</td>\n",
       "      <td>890</td>\n",
       "    </tr>\n",
       "    <tr>\n",
       "      <th>2023-02-27</th>\n",
       "      <td>2023-02-27</td>\n",
       "      <td>1110</td>\n",
       "    </tr>\n",
       "    <tr>\n",
       "      <th>2023-02-28</th>\n",
       "      <td>2023-02-28</td>\n",
       "      <td>961</td>\n",
       "    </tr>\n",
       "  </tbody>\n",
       "</table>\n",
       "<p>730 rows × 2 columns</p>\n",
       "</div>"
      ],
      "text/plain": [
       "                date_new_format  transactions\n",
       "date_new_format                              \n",
       "2021-03-01           2021-03-01           962\n",
       "2021-03-02           2021-03-02           939\n",
       "2021-03-03           2021-03-03           911\n",
       "2021-03-04           2021-03-04           903\n",
       "2021-03-05           2021-03-05           943\n",
       "...                         ...           ...\n",
       "2023-02-24           2023-02-24           894\n",
       "2023-02-25           2023-02-25           905\n",
       "2023-02-26           2023-02-26           890\n",
       "2023-02-27           2023-02-27          1110\n",
       "2023-02-28           2023-02-28           961\n",
       "\n",
       "[730 rows x 2 columns]"
      ]
     },
     "execution_count": 86,
     "metadata": {},
     "output_type": "execute_result"
    }
   ],
   "source": [
    "data_final_days = data_final.resample('D', on='date_new_format').session_id.count().reset_index()\n",
    "data_final_days = data_final_days.rename(columns={\"session_id\": \"transactions\"})\n",
    "data_final_days.index = data_final_days['date_new_format']\n",
    "data_final_days"
   ]
  },
  {
   "cell_type": "code",
   "execution_count": 87,
   "id": "bbe718f5",
   "metadata": {},
   "outputs": [
    {
     "data": {
      "image/png": "[encoded data removed]",
      "text/plain": [
       "<Figure size 1152x504 with 4 Axes>"
      ]
     },
     "metadata": {},
     "output_type": "display_data"
    }
   ],
   "source": [
    "from statsmodels.tsa.seasonal import seasonal_decompose\n",
    "data_final_decomp = seasonal_decompose(data_final_days['transactions'],model='additive', period=90)\n",
    "ax=data_final_decomp.plot()\n",
    "fig = plt.gcf()\n",
    "fig.set_size_inches(16, 7)\n",
    "plt.show()"
   ]
  },
  {
   "cell_type": "markdown",
   "id": "a0f47234",
   "metadata": {},
   "source": [
    "**Observations :** <br/> \n",
    "* <i>Trend:</i> On observe une diminution du nombre de connexion jusqu'en Juillet 2021, une augmentation juqu'en Janvier 2022 et enfin une courbe constante sur le reste du temps.\n",
    "* <i>Seasonal:</i> On observe une régularité de trois mois répétitive."
   ]
  },
  {
   "cell_type": "markdown",
   "id": "bf709fd6",
   "metadata": {},
   "source": [
    "### Décomposition du chiffre d'affaire"
   ]
  },
  {
   "cell_type": "code",
   "execution_count": 105,
   "id": "b18f974a",
   "metadata": {},
   "outputs": [
    {
     "data": {
      "text/html": [
       "<div>\n",
       "<style scoped>\n",
       "    .dataframe tbody tr th:only-of-type {\n",
       "        vertical-align: middle;\n",
       "    }\n",
       "\n",
       "    .dataframe tbody tr th {\n",
       "        vertical-align: top;\n",
       "    }\n",
       "\n",
       "    .dataframe thead th {\n",
       "        text-align: right;\n",
       "    }\n",
       "</style>\n",
       "<table border=\"1\" class=\"dataframe\">\n",
       "  <thead>\n",
       "    <tr style=\"text-align: right;\">\n",
       "      <th></th>\n",
       "      <th>date_new_format</th>\n",
       "      <th>Chiffre d'affaire</th>\n",
       "    </tr>\n",
       "    <tr>\n",
       "      <th>date_new_format</th>\n",
       "      <th></th>\n",
       "      <th></th>\n",
       "    </tr>\n",
       "  </thead>\n",
       "  <tbody>\n",
       "    <tr>\n",
       "      <th>2021-03-01</th>\n",
       "      <td>2021-03-01</td>\n",
       "      <td>16565.22</td>\n",
       "    </tr>\n",
       "    <tr>\n",
       "      <th>2021-03-02</th>\n",
       "      <td>2021-03-02</td>\n",
       "      <td>15486.45</td>\n",
       "    </tr>\n",
       "    <tr>\n",
       "      <th>2021-03-03</th>\n",
       "      <td>2021-03-03</td>\n",
       "      <td>15198.69</td>\n",
       "    </tr>\n",
       "    <tr>\n",
       "      <th>2021-03-04</th>\n",
       "      <td>2021-03-04</td>\n",
       "      <td>15196.07</td>\n",
       "    </tr>\n",
       "    <tr>\n",
       "      <th>2021-03-05</th>\n",
       "      <td>2021-03-05</td>\n",
       "      <td>17471.37</td>\n",
       "    </tr>\n",
       "    <tr>\n",
       "      <th>...</th>\n",
       "      <td>...</td>\n",
       "      <td>...</td>\n",
       "    </tr>\n",
       "    <tr>\n",
       "      <th>2023-02-24</th>\n",
       "      <td>2023-02-24</td>\n",
       "      <td>15207.89</td>\n",
       "    </tr>\n",
       "    <tr>\n",
       "      <th>2023-02-25</th>\n",
       "      <td>2023-02-25</td>\n",
       "      <td>15761.25</td>\n",
       "    </tr>\n",
       "    <tr>\n",
       "      <th>2023-02-26</th>\n",
       "      <td>2023-02-26</td>\n",
       "      <td>16304.72</td>\n",
       "    </tr>\n",
       "    <tr>\n",
       "      <th>2023-02-27</th>\n",
       "      <td>2023-02-27</td>\n",
       "      <td>19170.81</td>\n",
       "    </tr>\n",
       "    <tr>\n",
       "      <th>2023-02-28</th>\n",
       "      <td>2023-02-28</td>\n",
       "      <td>18105.15</td>\n",
       "    </tr>\n",
       "  </tbody>\n",
       "</table>\n",
       "<p>730 rows × 2 columns</p>\n",
       "</div>"
      ],
      "text/plain": [
       "                date_new_format  Chiffre d'affaire\n",
       "date_new_format                                   \n",
       "2021-03-01           2021-03-01           16565.22\n",
       "2021-03-02           2021-03-02           15486.45\n",
       "2021-03-03           2021-03-03           15198.69\n",
       "2021-03-04           2021-03-04           15196.07\n",
       "2021-03-05           2021-03-05           17471.37\n",
       "...                         ...                ...\n",
       "2023-02-24           2023-02-24           15207.89\n",
       "2023-02-25           2023-02-25           15761.25\n",
       "2023-02-26           2023-02-26           16304.72\n",
       "2023-02-27           2023-02-27           19170.81\n",
       "2023-02-28           2023-02-28           18105.15\n",
       "\n",
       "[730 rows x 2 columns]"
      ]
     },
     "execution_count": 105,
     "metadata": {},
     "output_type": "execute_result"
    }
   ],
   "source": [
    "data_final_ca_days = data_final.resample('D', on='date_new_format').price.sum().reset_index()\n",
    "data_final_ca_days = data_final_ca_days.rename(columns={\"price\": \"Chiffre d'affaire\"})\n",
    "data_final_ca_days.index = data_final_ca_days['date_new_format']\n",
    "data_final_ca_days"
   ]
  },
  {
   "cell_type": "code",
   "execution_count": 106,
   "id": "27724860",
   "metadata": {},
   "outputs": [
    {
     "data": {
      "image/png": "[encoded data removed]",
      "text/plain": [
       "<Figure size 1152x432 with 4 Axes>"
      ]
     },
     "metadata": {},
     "output_type": "display_data"
    }
   ],
   "source": [
    "data_final_ca_decomp = seasonal_decompose(data_final_ca_days['Chiffre d\\'affaire'],model='additive', period=90)\n",
    "ax=data_final_ca_decomp.plot()\n",
    "fig = plt.gcf()\n",
    "fig.set_size_inches(16, 6)\n",
    "plt.show()"
   ]
  },
  {
   "cell_type": "markdown",
   "id": "d5589290",
   "metadata": {},
   "source": [
    "**Observations :** <br/>\n",
    "* <i> Trend: </i> On observe une constante du chiffre d'affaire jusq'en Août 2021, une chute des vente sur un mois, une augmentation du chiffre d'affaire à partir de Septembre 2021 jusqu'en Janvier 2022, une légère diminution jusqu'en Avril 2022 et de nouveau une courbe constante du chiffre d'affaires sur le restant du temps.\n",
    "* <i> Seasonal: </i> On observe une régularité de trois mois répétitive."
   ]
  },
  {
   "cell_type": "markdown",
   "id": "47a53db8",
   "metadata": {},
   "source": [
    "**Conclusion :** La chute du chiffre d'affaire en octobre 2021 est dû à la diminution du nombre de connexion."
   ]
  },
  {
   "cell_type": "markdown",
   "id": "aaab8562",
   "metadata": {},
   "source": [
    "## Analyse des profils des clients"
   ]
  },
  {
   "cell_type": "markdown",
   "id": "b904bf0e",
   "metadata": {},
   "source": [
    "- Le genre"
   ]
  },
  {
   "cell_type": "code",
   "execution_count": 43,
   "id": "4af37b87",
   "metadata": {},
   "outputs": [
    {
     "data": {
      "text/html": [
       "<div>\n",
       "<style scoped>\n",
       "    .dataframe tbody tr th:only-of-type {\n",
       "        vertical-align: middle;\n",
       "    }\n",
       "\n",
       "    .dataframe tbody tr th {\n",
       "        vertical-align: top;\n",
       "    }\n",
       "\n",
       "    .dataframe thead th {\n",
       "        text-align: right;\n",
       "    }\n",
       "</style>\n",
       "<table border=\"1\" class=\"dataframe\">\n",
       "  <thead>\n",
       "    <tr style=\"text-align: right;\">\n",
       "      <th></th>\n",
       "      <th>client_id</th>\n",
       "    </tr>\n",
       "    <tr>\n",
       "      <th>sex</th>\n",
       "      <th></th>\n",
       "    </tr>\n",
       "  </thead>\n",
       "  <tbody>\n",
       "    <tr>\n",
       "      <th>m</th>\n",
       "      <td>340826</td>\n",
       "    </tr>\n",
       "    <tr>\n",
       "      <th>f</th>\n",
       "      <td>338285</td>\n",
       "    </tr>\n",
       "  </tbody>\n",
       "</table>\n",
       "</div>"
      ],
      "text/plain": [
       "     client_id\n",
       "sex           \n",
       "m       340826\n",
       "f       338285"
      ]
     },
     "execution_count": 43,
     "metadata": {},
     "output_type": "execute_result"
    }
   ],
   "source": [
    "data_final[['sex','client_id']].groupby(by='sex').count().sort_values('client_id',ascending=False)"
   ]
  },
  {
   "cell_type": "code",
   "execution_count": 44,
   "id": "4e8e10a9",
   "metadata": {},
   "outputs": [
    {
     "data": {
      "image/png": "[encoded data removed]",
      "text/plain": [
       "<Figure size 432x288 with 1 Axes>"
      ]
     },
     "metadata": {},
     "output_type": "display_data"
    }
   ],
   "source": [
    "ca_f = data_final.loc[data_final['sex'] == 'f', 'client_id'].count()\n",
    "ca_h = data_final.loc[data_final['sex'] == 'm', 'client_id'].count()\n",
    "ca_genre_array = np.array([ca_f, ca_h])\n",
    "labels = ['Femmes','Hommes']\n",
    "plt.pie(ca_genre_array, labels=labels, autopct='%1.1f%%', pctdistance=0.6, labeldistance=1.2)\n",
    "plt.title('Pie chart du nombre d\\'achats en fonction du genre \\n')\n",
    "plt.show() "
   ]
  },
  {
   "cell_type": "markdown",
   "id": "76af1c2d",
   "metadata": {},
   "source": [
    "**Observation :** Il y a plus d'hommes (<i>50.2%</i>) que de femmes (<i>49.8 %</i>) qui achètent."
   ]
  },
  {
   "cell_type": "markdown",
   "id": "40503a1e",
   "metadata": {},
   "source": [
    "- L'âge"
   ]
  },
  {
   "cell_type": "markdown",
   "id": "7a0e8ad8",
   "metadata": {},
   "source": [
    "Création d'une colonne '<i>age</i>' pour une meilleur utilisation de '<i>birth</i>'."
   ]
  },
  {
   "cell_type": "code",
   "execution_count": 51,
   "id": "8d832d23",
   "metadata": {},
   "outputs": [],
   "source": [
    "data_final['age'] = 2022 - data_final['birth']"
   ]
  },
  {
   "cell_type": "code",
   "execution_count": 52,
   "id": "91c53d70",
   "metadata": {},
   "outputs": [
    {
     "data": {
      "text/html": [
       "<div>\n",
       "<style scoped>\n",
       "    .dataframe tbody tr th:only-of-type {\n",
       "        vertical-align: middle;\n",
       "    }\n",
       "\n",
       "    .dataframe tbody tr th {\n",
       "        vertical-align: top;\n",
       "    }\n",
       "\n",
       "    .dataframe thead th {\n",
       "        text-align: right;\n",
       "    }\n",
       "</style>\n",
       "<table border=\"1\" class=\"dataframe\">\n",
       "  <thead>\n",
       "    <tr style=\"text-align: right;\">\n",
       "      <th></th>\n",
       "      <th>client_id</th>\n",
       "    </tr>\n",
       "    <tr>\n",
       "      <th>age</th>\n",
       "      <th></th>\n",
       "    </tr>\n",
       "  </thead>\n",
       "  <tbody>\n",
       "    <tr>\n",
       "      <th>42</th>\n",
       "      <td>47409</td>\n",
       "    </tr>\n",
       "    <tr>\n",
       "      <th>34</th>\n",
       "      <td>25000</td>\n",
       "    </tr>\n",
       "    <tr>\n",
       "      <th>43</th>\n",
       "      <td>24878</td>\n",
       "    </tr>\n",
       "    <tr>\n",
       "      <th>44</th>\n",
       "      <td>24659</td>\n",
       "    </tr>\n",
       "    <tr>\n",
       "      <th>36</th>\n",
       "      <td>23465</td>\n",
       "    </tr>\n",
       "    <tr>\n",
       "      <th>...</th>\n",
       "      <td>...</td>\n",
       "    </tr>\n",
       "    <tr>\n",
       "      <th>90</th>\n",
       "      <td>311</td>\n",
       "    </tr>\n",
       "    <tr>\n",
       "      <th>87</th>\n",
       "      <td>271</td>\n",
       "    </tr>\n",
       "    <tr>\n",
       "      <th>92</th>\n",
       "      <td>226</td>\n",
       "    </tr>\n",
       "    <tr>\n",
       "      <th>93</th>\n",
       "      <td>201</td>\n",
       "    </tr>\n",
       "    <tr>\n",
       "      <th>91</th>\n",
       "      <td>170</td>\n",
       "    </tr>\n",
       "  </tbody>\n",
       "</table>\n",
       "<p>76 rows × 1 columns</p>\n",
       "</div>"
      ],
      "text/plain": [
       "     client_id\n",
       "age           \n",
       "42       47409\n",
       "34       25000\n",
       "43       24878\n",
       "44       24659\n",
       "36       23465\n",
       "..         ...\n",
       "90         311\n",
       "87         271\n",
       "92         226\n",
       "93         201\n",
       "91         170\n",
       "\n",
       "[76 rows x 1 columns]"
      ]
     },
     "execution_count": 52,
     "metadata": {},
     "output_type": "execute_result"
    }
   ],
   "source": [
    "data_final[['age','client_id']].groupby(by='age').count().sort_values('client_id',ascending=False)"
   ]
  },
  {
   "cell_type": "markdown",
   "id": "e128df30",
   "metadata": {},
   "source": [
    "Création d'une colonne '<i>age_range</i>'."
   ]
  },
  {
   "cell_type": "code",
   "execution_count": 53,
   "id": "c7f66a44",
   "metadata": {},
   "outputs": [
    {
     "data": {
      "text/plain": [
       "0         (30, 40]\n",
       "1         (30, 40]\n",
       "2         (30, 40]\n",
       "3         (30, 40]\n",
       "4         (30, 40]\n",
       "            ...   \n",
       "679106    (20, 30]\n",
       "679107    (60, 70]\n",
       "679108    (60, 70]\n",
       "679109    (20, 30]\n",
       "679110    (20, 30]\n",
       "Name: age_range, Length: 679111, dtype: category\n",
       "Categories (9, interval[int64]): [(15, 20] < (20, 30] < (30, 40] < (40, 50] ... (60, 70] < (70, 80] < (80, 90] < (90, 100]]"
      ]
     },
     "execution_count": 53,
     "metadata": {},
     "output_type": "execute_result"
    }
   ],
   "source": [
    "data_final['age_range'] = pd.cut(x=data_final['age'], bins=[15,20,30,40,50,60,70,80,90,100])\n",
    "data_final['age_range']"
   ]
  },
  {
   "cell_type": "code",
   "execution_count": 50,
   "id": "a2b02ee1",
   "metadata": {},
   "outputs": [
    {
     "data": {
      "text/html": [
       "<div>\n",
       "<style scoped>\n",
       "    .dataframe tbody tr th:only-of-type {\n",
       "        vertical-align: middle;\n",
       "    }\n",
       "\n",
       "    .dataframe tbody tr th {\n",
       "        vertical-align: top;\n",
       "    }\n",
       "\n",
       "    .dataframe thead th {\n",
       "        text-align: right;\n",
       "    }\n",
       "</style>\n",
       "<table border=\"1\" class=\"dataframe\">\n",
       "  <thead>\n",
       "    <tr style=\"text-align: right;\">\n",
       "      <th></th>\n",
       "      <th>client_id</th>\n",
       "    </tr>\n",
       "    <tr>\n",
       "      <th>age_range</th>\n",
       "      <th></th>\n",
       "    </tr>\n",
       "  </thead>\n",
       "  <tbody>\n",
       "    <tr>\n",
       "      <th>(40, 50]</th>\n",
       "      <td>222905</td>\n",
       "    </tr>\n",
       "    <tr>\n",
       "      <th>(30, 40]</th>\n",
       "      <td>196114</td>\n",
       "    </tr>\n",
       "    <tr>\n",
       "      <th>(50, 60]</th>\n",
       "      <td>96226</td>\n",
       "    </tr>\n",
       "    <tr>\n",
       "      <th>(20, 30]</th>\n",
       "      <td>55748</td>\n",
       "    </tr>\n",
       "    <tr>\n",
       "      <th>(60, 70]</th>\n",
       "      <td>53093</td>\n",
       "    </tr>\n",
       "    <tr>\n",
       "      <th>(15, 20]</th>\n",
       "      <td>24104</td>\n",
       "    </tr>\n",
       "    <tr>\n",
       "      <th>(70, 80]</th>\n",
       "      <td>21617</td>\n",
       "    </tr>\n",
       "    <tr>\n",
       "      <th>(80, 90]</th>\n",
       "      <td>8707</td>\n",
       "    </tr>\n",
       "    <tr>\n",
       "      <th>(90, 100]</th>\n",
       "      <td>597</td>\n",
       "    </tr>\n",
       "  </tbody>\n",
       "</table>\n",
       "</div>"
      ],
      "text/plain": [
       "           client_id\n",
       "age_range           \n",
       "(40, 50]      222905\n",
       "(30, 40]      196114\n",
       "(50, 60]       96226\n",
       "(20, 30]       55748\n",
       "(60, 70]       53093\n",
       "(15, 20]       24104\n",
       "(70, 80]       21617\n",
       "(80, 90]        8707\n",
       "(90, 100]        597"
      ]
     },
     "execution_count": 50,
     "metadata": {},
     "output_type": "execute_result"
    }
   ],
   "source": [
    "data_final[['age_range','client_id']].groupby(by='age_range').count().sort_values('client_id',ascending=False)"
   ]
  },
  {
   "cell_type": "code",
   "execution_count": 103,
   "id": "a4965496",
   "metadata": {},
   "outputs": [
    {
     "data": {
      "image/png": "[encoded data removed]",
      "text/plain": [
       "<Figure size 432x288 with 1 Axes>"
      ]
     },
     "metadata": {},
     "output_type": "display_data"
    },
    {
     "data": {
      "image/png": "[encoded data removed]",
      "text/plain": [
       "<Figure size 432x288 with 1 Axes>"
      ]
     },
     "metadata": {},
     "output_type": "display_data"
    }
   ],
   "source": [
    "age1520 = data_final.loc[data_final['age_range'] == pd.Interval(left=15, right=20), 'client_id'].count()\n",
    "age2030 = data_final.loc[data_final['age_range'] == pd.Interval(left=20, right=30), 'client_id'].count()\n",
    "age3040 = data_final.loc[data_final['age_range'] == pd.Interval(left=30, right=40), 'client_id'].count()\n",
    "age4050 = data_final.loc[data_final['age_range'] == pd.Interval(left=40, right=50), 'client_id'].count()\n",
    "age5060 = data_final.loc[data_final['age_range'] == pd.Interval(left=50, right=60), 'client_id'].count()\n",
    "age6070 = data_final.loc[data_final['age_range'] == pd.Interval(left=60, right=70), 'client_id'].count()\n",
    "age7080 = data_final.loc[data_final['age_range'] == pd.Interval(left=70, right=80), 'client_id'].count()\n",
    "age8090 = data_final.loc[data_final['age_range'] == pd.Interval(left=80, right=90), 'client_id'].count()\n",
    "age90100 = data_final.loc[data_final['age_range'] == pd.Interval(left=90, right=100), 'client_id'].count()\n",
    "age_rang_client_array = np.array([age1520,age2030,age3040,age4050,age5060,age6070,age7080,age8090,age90100])\n",
    "labels = ['(15, 20]','(20, 30]','(30, 40]','(40, 50]','(50, 60]','(60, 70]','(70, 80]','(80, 90]',' (90, 100]']\n",
    "plt.pie(age_rang_client_array, labels=labels, autopct='%1.1f%%', pctdistance=0.6, labeldistance=1.2)\n",
    "plt.title('Pie chart du nombre d\\'achats en fonction du genre \\n')\n",
    "plt.show() \n",
    "\n",
    "# Diagramme en tuyaux d'orgues\n",
    "data_final[\"age_range\"].value_counts(normalize=True).plot(kind='bar')\n",
    "plt.title(\"Diagramme des tranches d'âge de client \\n\")\n",
    "plt.show()"
   ]
  },
  {
   "cell_type": "markdown",
   "id": "efc7d676",
   "metadata": {},
   "source": [
    "**Observation :** La tranche d'âge la plus élevée des clients est de 40-50 ans (<i>32,8%</i>)."
   ]
  },
  {
   "cell_type": "markdown",
   "id": "63030c97",
   "metadata": {},
   "source": [
    "## Répartition du Chiffre d'affaire en eux (Courbe de Lorenz)"
   ]
  },
  {
   "cell_type": "code",
   "execution_count": 63,
   "id": "106204b3",
   "metadata": {},
   "outputs": [
    {
     "name": "stdout",
     "output_type": "stream",
     "text": [
      "\u001b[1mIndice de Gini : \u001b[0m 0.3954702179569495\n"
     ]
    }
   ],
   "source": [
    "depenses = data_final[data_final['price'] > 0]\n",
    "dep = depenses['price'].values\n",
    "n = len(dep)\n",
    "lorenz = np.cumsum(np.sort(dep)) / dep.sum()\n",
    "lorenz = np.append([0],lorenz) # La courbe de Lorenz commence à 0\n",
    "\n",
    "xaxis = np.linspace(0-1/n,1+1/n,len(lorenz)) #Il y a un segment de taille n pour chaque individu, plus 1 segment supplémentaire d'ordonnée 0. Le premier segment commence à 0-1/n, et le dernier termine à 1+1/n.\n",
    "\n",
    "AUC = (lorenz.sum() -lorenz[-1]/2 -lorenz[0]/2)/n # Surface sous la courbe de Lorenz. Le premier segment (lorenz[0]) est à moitié en dessous de 0, on le coupe donc en 2, on fait de même pour le dernier segment lorenz[-1] qui est à moitié au dessus de 1.\n",
    "S = 0.5 - AUC # surface entre la première bissectrice et le courbe de Lorenz\n",
    "gini = 2*S\n",
    "print(color.BOLD + 'Indice de Gini : '+ color.END,gini)"
   ]
  },
  {
   "cell_type": "code",
   "execution_count": 37,
   "id": "4d1f162a",
   "metadata": {},
   "outputs": [
    {
     "data": {
      "image/png": "[encoded data removed]",
      "text/plain": [
       "<Figure size 432x288 with 1 Axes>"
      ]
     },
     "metadata": {},
     "output_type": "display_data"
    }
   ],
   "source": [
    "plt.plot(xaxis,lorenz,drawstyle='steps-post')\n",
    "plt.plot([0,1], [0,1]) #tracer la bisséctrice\n",
    "plt.show()"
   ]
  },
  {
   "cell_type": "markdown",
   "id": "a586df92",
   "metadata": {},
   "source": [
    "**Observation :** La répartition du chiffre d'affaires est proche d'une situation d'égalité parfaite."
   ]
  },
  {
   "cell_type": "markdown",
   "id": "788fd37c",
   "metadata": {},
   "source": [
    "## Analyse"
   ]
  },
  {
   "cell_type": "markdown",
   "id": "da325e06",
   "metadata": {},
   "source": [
    "### Le lien entre le genre d'un client et les catégories des livres achetés (qualitatives)"
   ]
  },
  {
   "cell_type": "code",
   "execution_count": 108,
   "id": "b824bb46",
   "metadata": {},
   "outputs": [
    {
     "data": {
      "text/html": [
       "<div>\n",
       "<style scoped>\n",
       "    .dataframe tbody tr th:only-of-type {\n",
       "        vertical-align: middle;\n",
       "    }\n",
       "\n",
       "    .dataframe tbody tr th {\n",
       "        vertical-align: top;\n",
       "    }\n",
       "\n",
       "    .dataframe thead th {\n",
       "        text-align: right;\n",
       "    }\n",
       "</style>\n",
       "<table border=\"1\" class=\"dataframe\">\n",
       "  <thead>\n",
       "    <tr style=\"text-align: right;\">\n",
       "      <th>categ</th>\n",
       "      <th>0</th>\n",
       "      <th>1</th>\n",
       "      <th>2</th>\n",
       "      <th>Total</th>\n",
       "    </tr>\n",
       "    <tr>\n",
       "      <th>sex</th>\n",
       "      <th></th>\n",
       "      <th></th>\n",
       "      <th></th>\n",
       "      <th></th>\n",
       "    </tr>\n",
       "  </thead>\n",
       "  <tbody>\n",
       "    <tr>\n",
       "      <th>f</th>\n",
       "      <td>206103</td>\n",
       "      <td>114899</td>\n",
       "      <td>17283</td>\n",
       "      <td>338285</td>\n",
       "    </tr>\n",
       "    <tr>\n",
       "      <th>m</th>\n",
       "      <td>209356</td>\n",
       "      <td>112270</td>\n",
       "      <td>19200</td>\n",
       "      <td>340826</td>\n",
       "    </tr>\n",
       "    <tr>\n",
       "      <th>Total</th>\n",
       "      <td>415459</td>\n",
       "      <td>227169</td>\n",
       "      <td>36483</td>\n",
       "      <td>679111</td>\n",
       "    </tr>\n",
       "  </tbody>\n",
       "</table>\n",
       "</div>"
      ],
      "text/plain": [
       "categ       0       1      2   Total\n",
       "sex                                 \n",
       "f      206103  114899  17283  338285\n",
       "m      209356  112270  19200  340826\n",
       "Total  415459  227169  36483  679111"
      ]
     },
     "execution_count": 108,
     "metadata": {},
     "output_type": "execute_result"
    }
   ],
   "source": [
    "X = \"sex\"\n",
    "Y = \"categ\"\n",
    "\n",
    "cont = data_final[[X,Y]].pivot_table(index=X,columns=Y,aggfunc=len,margins=True,margins_name=\"Total\")\n",
    "cont"
   ]
  },
  {
   "cell_type": "code",
   "execution_count": 109,
   "id": "2db06a4f",
   "metadata": {},
   "outputs": [
    {
     "data": {
      "image/png": "[encoded data removed]",
      "text/plain": [
       "<Figure size 432x288 with 2 Axes>"
      ]
     },
     "metadata": {},
     "output_type": "display_data"
    }
   ],
   "source": [
    "tx = cont.loc[:,[\"Total\"]]\n",
    "ty = cont.loc[[\"Total\"],:]\n",
    "n = len(data_final)\n",
    "indep = tx.dot(ty) / n\n",
    "\n",
    "c = cont.fillna(0)\n",
    "measure = (c-indep)**2/indep\n",
    "xi_n = measure.sum().sum()\n",
    "table = measure/xi_n\n",
    "sns.heatmap(table.iloc[:-1,:-1],annot=c.iloc[:-1,:-1]).set_title('Fig. 2. Correlation entre catégorie et genre')\n",
    "plt.show()"
   ]
  },
  {
   "cell_type": "markdown",
   "id": "22b3452c",
   "metadata": {},
   "source": [
    "* Test statistique (Khi-2)"
   ]
  },
  {
   "cell_type": "code",
   "execution_count": 114,
   "id": "141a3bc6",
   "metadata": {},
   "outputs": [],
   "source": [
    "chi, p, dof, ex = st.chi2_contingency(observed = cont)"
   ]
  },
  {
   "cell_type": "code",
   "execution_count": 113,
   "id": "2fea42d4",
   "metadata": {},
   "outputs": [
    {
     "name": "stdout",
     "output_type": "stream",
     "text": [
      "\u001b[1mP_value : \u001b[0m 3.144522803251581e-29\n"
     ]
    }
   ],
   "source": [
    "print(color.BOLD + 'P_value : ' + color.END,p)"
   ]
  },
  {
   "cell_type": "markdown",
   "id": "29f8a8d7",
   "metadata": {},
   "source": [
    "**Conclusion :** La p_value étant proche de 0, on peut conclure que l'association entre le genre des clients et les catégorie des produits est statistiquement significatif. Ces deux variables ne peuvent donc pas être considérées comme indépendantes."
   ]
  },
  {
   "cell_type": "markdown",
   "id": "79b41141",
   "metadata": {},
   "source": [
    "### Le lien entre l'âge des clients et le montant des achats (quantitatives)"
   ]
  },
  {
   "cell_type": "code",
   "execution_count": 119,
   "id": "f01b5b42",
   "metadata": {},
   "outputs": [
    {
     "data": {
      "text/plain": [
       "client_id\n",
       "c_1        558.18\n",
       "c_10      1353.60\n",
       "c_100      254.85\n",
       "c_1000    2261.89\n",
       "c_1001    1812.86\n",
       "           ...   \n",
       "c_995      189.41\n",
       "c_996     1625.58\n",
       "c_997     1490.01\n",
       "c_998     2779.88\n",
       "c_999      701.40\n",
       "Name: price, Length: 8600, dtype: float64"
      ]
     },
     "execution_count": 119,
     "metadata": {},
     "output_type": "execute_result"
    }
   ],
   "source": [
    "montant = data_final.groupby(by=['client_id'])['price'].sum()\n",
    "montant"
   ]
  },
  {
   "cell_type": "code",
   "execution_count": 120,
   "id": "a82c7855",
   "metadata": {
    "scrolled": true
   },
   "outputs": [
    {
     "data": {
      "text/plain": [
       "client_id\n",
       "c_1       67\n",
       "c_10      66\n",
       "c_100     30\n",
       "c_1000    56\n",
       "c_1001    40\n",
       "          ..\n",
       "c_995     67\n",
       "c_996     52\n",
       "c_997     28\n",
       "c_998     21\n",
       "c_999     58\n",
       "Name: age, Length: 8600, dtype: int64"
      ]
     },
     "execution_count": 120,
     "metadata": {},
     "output_type": "execute_result"
    }
   ],
   "source": [
    "age = data_final.groupby(by=['client_id'])['age'].first()\n",
    "age"
   ]
  },
  {
   "cell_type": "code",
   "execution_count": 121,
   "id": "86a1d4b2",
   "metadata": {},
   "outputs": [],
   "source": [
    "a = age\n",
    "b = montant\n",
    "age_montant = pd.DataFrame({\"age\":a, \"montant\":b})"
   ]
  },
  {
   "cell_type": "code",
   "execution_count": 122,
   "id": "b4ade33c",
   "metadata": {},
   "outputs": [
    {
     "data": {
      "image/png": "[encoded data removed]",
      "text/plain": [
       "<Figure size 432x288 with 1 Axes>"
      ]
     },
     "metadata": {},
     "output_type": "display_data"
    }
   ],
   "source": [
    "plt.plot(age,montant, \"o\")\n",
    "sns.regplot(x=age_montant[\"age\"], y=age_montant[\"montant\"], line_kws={\"color\":\"r\",\"alpha\":0.7,\"lw\":5})\n",
    "plt.xlabel(\"âge\")\n",
    "plt.ylabel(\"montant\")\n",
    "plt.show()"
   ]
  },
  {
   "cell_type": "markdown",
   "id": "d4361056",
   "metadata": {},
   "source": [
    "**Observations :** On observe des outliers qui influencent l'analyse. "
   ]
  },
  {
   "cell_type": "markdown",
   "id": "8bcd6ad0",
   "metadata": {},
   "source": [
    "* Outliers"
   ]
  },
  {
   "cell_type": "markdown",
   "id": "876143ae",
   "metadata": {},
   "source": [
    "Utilisation de la méthode z-score pour identifier les 4 outliers."
   ]
  },
  {
   "cell_type": "code",
   "execution_count": 123,
   "id": "137d50d1",
   "metadata": {},
   "outputs": [
    {
     "name": "stdout",
     "output_type": "stream",
     "text": [
      "\u001b[1mMean : \u001b[0m 1378.3405441860389\n",
      "\u001b[1mstd. :\u001b[0m 5182.24116861651\n"
     ]
    }
   ],
   "source": [
    "mean_montant = np.mean(age_montant['montant'])\n",
    "std_montant = np.std(age_montant['montant'])\n",
    "print(color.BOLD +'Mean : ' + color.END, mean_montant)\n",
    "print(color.BOLD +'std. :' + color.END, std_montant)"
   ]
  },
  {
   "cell_type": "code",
   "execution_count": 124,
   "id": "b45a9fd7",
   "metadata": {},
   "outputs": [
    {
     "name": "stdout",
     "output_type": "stream",
     "text": [
      "\u001b[1mLes outliers du dataframe : \u001b[0m\n",
      " [324033.34999993996, 113637.93000000644, 289760.339999994, 153598.92000000234]\n"
     ]
    }
   ],
   "source": [
    "threshold_montant = 2\n",
    "outlier_montant = []\n",
    "for i in age_montant['montant']:\n",
    "    z_montant = (i-mean_montant)/std_montant\n",
    "    if z_montant > threshold_montant:\n",
    "        outlier_montant.append(i)\n",
    "print( color.BOLD + 'Les outliers du dataframe : ' + color.END + '\\n', outlier_montant)"
   ]
  },
  {
   "cell_type": "markdown",
   "id": "6f65d60b",
   "metadata": {},
   "source": [
    "* Nouvelle analyse sans les outliers"
   ]
  },
  {
   "cell_type": "code",
   "execution_count": 125,
   "id": "197e62e9",
   "metadata": {},
   "outputs": [
    {
     "data": {
      "text/html": [
       "<div>\n",
       "<style scoped>\n",
       "    .dataframe tbody tr th:only-of-type {\n",
       "        vertical-align: middle;\n",
       "    }\n",
       "\n",
       "    .dataframe tbody tr th {\n",
       "        vertical-align: top;\n",
       "    }\n",
       "\n",
       "    .dataframe thead th {\n",
       "        text-align: right;\n",
       "    }\n",
       "</style>\n",
       "<table border=\"1\" class=\"dataframe\">\n",
       "  <thead>\n",
       "    <tr style=\"text-align: right;\">\n",
       "      <th></th>\n",
       "      <th>age</th>\n",
       "      <th>montant</th>\n",
       "    </tr>\n",
       "    <tr>\n",
       "      <th>client_id</th>\n",
       "      <th></th>\n",
       "      <th></th>\n",
       "    </tr>\n",
       "  </thead>\n",
       "  <tbody>\n",
       "    <tr>\n",
       "      <th>c_3263</th>\n",
       "      <td>37</td>\n",
       "      <td>5276.87</td>\n",
       "    </tr>\n",
       "    <tr>\n",
       "      <th>c_1570</th>\n",
       "      <td>43</td>\n",
       "      <td>5271.62</td>\n",
       "    </tr>\n",
       "    <tr>\n",
       "      <th>c_2899</th>\n",
       "      <td>28</td>\n",
       "      <td>5214.05</td>\n",
       "    </tr>\n",
       "    <tr>\n",
       "      <th>c_2140</th>\n",
       "      <td>45</td>\n",
       "      <td>5208.82</td>\n",
       "    </tr>\n",
       "    <tr>\n",
       "      <th>c_7319</th>\n",
       "      <td>48</td>\n",
       "      <td>5155.77</td>\n",
       "    </tr>\n",
       "    <tr>\n",
       "      <th>...</th>\n",
       "      <td>...</td>\n",
       "      <td>...</td>\n",
       "    </tr>\n",
       "    <tr>\n",
       "      <th>c_4648</th>\n",
       "      <td>18</td>\n",
       "      <td>11.20</td>\n",
       "    </tr>\n",
       "    <tr>\n",
       "      <th>c_240</th>\n",
       "      <td>24</td>\n",
       "      <td>11.06</td>\n",
       "    </tr>\n",
       "    <tr>\n",
       "      <th>c_8114</th>\n",
       "      <td>60</td>\n",
       "      <td>9.98</td>\n",
       "    </tr>\n",
       "    <tr>\n",
       "      <th>c_8140</th>\n",
       "      <td>51</td>\n",
       "      <td>8.30</td>\n",
       "    </tr>\n",
       "    <tr>\n",
       "      <th>c_8351</th>\n",
       "      <td>54</td>\n",
       "      <td>6.31</td>\n",
       "    </tr>\n",
       "  </tbody>\n",
       "</table>\n",
       "<p>8596 rows × 2 columns</p>\n",
       "</div>"
      ],
      "text/plain": [
       "           age  montant\n",
       "client_id              \n",
       "c_3263      37  5276.87\n",
       "c_1570      43  5271.62\n",
       "c_2899      28  5214.05\n",
       "c_2140      45  5208.82\n",
       "c_7319      48  5155.77\n",
       "...        ...      ...\n",
       "c_4648      18    11.20\n",
       "c_240       24    11.06\n",
       "c_8114      60     9.98\n",
       "c_8140      51     8.30\n",
       "c_8351      54     6.31\n",
       "\n",
       "[8596 rows x 2 columns]"
      ]
     },
     "execution_count": 125,
     "metadata": {},
     "output_type": "execute_result"
    }
   ],
   "source": [
    "montant_outlier_out = ~age_montant.montant.isin(outlier_montant)\n",
    "age_montant_bis = age_montant[montant_outlier_out]\n",
    "age_montant_bis.sort_values('montant',ascending=False)"
   ]
  },
  {
   "cell_type": "code",
   "execution_count": 126,
   "id": "be57974d",
   "metadata": {},
   "outputs": [
    {
     "data": {
      "image/png": "[encoded data removed]",
      "text/plain": [
       "<Figure size 432x288 with 1 Axes>"
      ]
     },
     "metadata": {},
     "output_type": "display_data"
    }
   ],
   "source": [
    "plt.plot(age_montant_bis['age'],age_montant_bis['montant'], \"o\")\n",
    "sns.regplot(x=age_montant_bis[\"age\"], y=age_montant_bis[\"montant\"], line_kws={\"color\":\"r\",\"alpha\":0.7,\"lw\":5})\n",
    "plt.xlabel(\"âge\")\n",
    "plt.ylabel(\"montant\")\n",
    "plt.show()"
   ]
  },
  {
   "cell_type": "markdown",
   "id": "f015e3a9",
   "metadata": {},
   "source": [
    "* Test statistique"
   ]
  },
  {
   "cell_type": "code",
   "execution_count": 141,
   "id": "b871357e",
   "metadata": {},
   "outputs": [
    {
     "name": "stdout",
     "output_type": "stream",
     "text": [
      "\u001b[1mCoefficient de Pearson:\u001b[0m -0.18838\n",
      "\u001b[1mp-value:\u001b[0m 0.0\n"
     ]
    }
   ],
   "source": [
    "r1, p1 = st.pearsonr(age_montant_bis['age'],age_montant_bis['montant'])\n",
    "print(color.BOLD + 'Coefficient de Pearson:' + color.END, round(r1, 5))\n",
    "print(color.BOLD + 'p-value:' + color.END, round(p1, 5))"
   ]
  },
  {
   "cell_type": "markdown",
   "id": "4c429bc5",
   "metadata": {},
   "source": [
    "**Conclusion :** La corrélation est négativement faible entre l'âge des clients et le montant des achats."
   ]
  },
  {
   "cell_type": "markdown",
   "id": "5cd711de",
   "metadata": {},
   "source": [
    "### Le lien entre l'âge des clients et la fréquence d'achat (quantitatives)"
   ]
  },
  {
   "cell_type": "code",
   "execution_count": 128,
   "id": "5cbeb8f7",
   "metadata": {},
   "outputs": [
    {
     "data": {
      "text/plain": [
       "client_id\n",
       "c_1        39\n",
       "c_10       58\n",
       "c_100       8\n",
       "c_1000    125\n",
       "c_1001    102\n",
       "         ... \n",
       "c_995      14\n",
       "c_996      95\n",
       "c_997      59\n",
       "c_998      53\n",
       "c_999      46\n",
       "Name: session_id, Length: 8600, dtype: int64"
      ]
     },
     "execution_count": 128,
     "metadata": {},
     "output_type": "execute_result"
    }
   ],
   "source": [
    "freq = data_final.groupby(by='client_id')['session_id'].agg(len)\n",
    "freq"
   ]
  },
  {
   "cell_type": "code",
   "execution_count": 129,
   "id": "adacac61",
   "metadata": {},
   "outputs": [],
   "source": [
    "a = age\n",
    "b = freq\n",
    "age_freq = pd.DataFrame({\"age\":a, \"freq\":b})"
   ]
  },
  {
   "cell_type": "code",
   "execution_count": 130,
   "id": "01252320",
   "metadata": {},
   "outputs": [
    {
     "data": {
      "image/png": "[encoded data removed]",
      "text/plain": [
       "<Figure size 432x288 with 1 Axes>"
      ]
     },
     "metadata": {},
     "output_type": "display_data"
    }
   ],
   "source": [
    "plt.plot(age_freq['age'],age_freq['freq'], \"o\")\n",
    "sns.regplot(x=age_freq[\"age\"], y=age_freq[\"freq\"], line_kws={\"color\":\"r\",\"alpha\":0.7,\"lw\":5})\n",
    "plt.xlabel(\"âge\")\n",
    "plt.ylabel(\"frequence\")\n",
    "plt.show()"
   ]
  },
  {
   "cell_type": "markdown",
   "id": "cb4a2c73",
   "metadata": {},
   "source": [
    "**Observations :** On observe des outliers qui influencent l'analyse. "
   ]
  },
  {
   "cell_type": "markdown",
   "id": "f70ec56b",
   "metadata": {},
   "source": [
    "* Outliers"
   ]
  },
  {
   "cell_type": "markdown",
   "id": "9984c694",
   "metadata": {},
   "source": [
    "Utilisation de la méthode z-score pour identifier les 4 outliers."
   ]
  },
  {
   "cell_type": "code",
   "execution_count": 133,
   "id": "678c222f",
   "metadata": {},
   "outputs": [
    {
     "name": "stdout",
     "output_type": "stream",
     "text": [
      "\u001b[1mMean : \u001b[0m 78.96639534883721\n",
      "\u001b[1mstd. : \u001b[0m 312.3847466142356\n"
     ]
    }
   ],
   "source": [
    "mean_freq = np.mean(age_freq['freq'])\n",
    "std_freq = np.std(age_freq['freq'])\n",
    "print(color.BOLD + 'Mean : ' + color.END, mean_freq)\n",
    "print(color.BOLD + 'std. : ' + color.END, std_freq)"
   ]
  },
  {
   "cell_type": "code",
   "execution_count": 134,
   "id": "bb83971c",
   "metadata": {},
   "outputs": [
    {
     "name": "stdout",
     "output_type": "stream",
     "text": [
      "\u001b[1mLes outliers du dataframe : \u001b[0m\n",
      " [25488, 6770, 5195, 9181]\n"
     ]
    }
   ],
   "source": [
    "threshold_freq = 2\n",
    "outlier_freq = []\n",
    "for i in age_freq['freq']:\n",
    "    z_freq = (i-mean_freq)/std_freq\n",
    "    if z_freq > threshold_freq:\n",
    "        outlier_freq.append(i)\n",
    "print(color.BOLD +'Les outliers du dataframe : ' + color.END + '\\n', outlier_freq)"
   ]
  },
  {
   "cell_type": "markdown",
   "id": "4597c900",
   "metadata": {},
   "source": [
    "* Nouvelle analyse sans les outliers"
   ]
  },
  {
   "cell_type": "code",
   "execution_count": 135,
   "id": "df984aab",
   "metadata": {},
   "outputs": [
    {
     "data": {
      "text/html": [
       "<div>\n",
       "<style scoped>\n",
       "    .dataframe tbody tr th:only-of-type {\n",
       "        vertical-align: middle;\n",
       "    }\n",
       "\n",
       "    .dataframe tbody tr th {\n",
       "        vertical-align: top;\n",
       "    }\n",
       "\n",
       "    .dataframe thead th {\n",
       "        text-align: right;\n",
       "    }\n",
       "</style>\n",
       "<table border=\"1\" class=\"dataframe\">\n",
       "  <thead>\n",
       "    <tr style=\"text-align: right;\">\n",
       "      <th></th>\n",
       "      <th>age</th>\n",
       "      <th>freq</th>\n",
       "    </tr>\n",
       "    <tr>\n",
       "      <th>client_id</th>\n",
       "      <th></th>\n",
       "      <th></th>\n",
       "    </tr>\n",
       "  </thead>\n",
       "  <tbody>\n",
       "    <tr>\n",
       "      <th>c_3263</th>\n",
       "      <td>37</td>\n",
       "      <td>403</td>\n",
       "    </tr>\n",
       "    <tr>\n",
       "      <th>c_2140</th>\n",
       "      <td>45</td>\n",
       "      <td>402</td>\n",
       "    </tr>\n",
       "    <tr>\n",
       "      <th>c_2595</th>\n",
       "      <td>48</td>\n",
       "      <td>398</td>\n",
       "    </tr>\n",
       "    <tr>\n",
       "      <th>c_2077</th>\n",
       "      <td>38</td>\n",
       "      <td>384</td>\n",
       "    </tr>\n",
       "    <tr>\n",
       "      <th>c_1637</th>\n",
       "      <td>34</td>\n",
       "      <td>380</td>\n",
       "    </tr>\n",
       "    <tr>\n",
       "      <th>...</th>\n",
       "      <td>...</td>\n",
       "      <td>...</td>\n",
       "    </tr>\n",
       "    <tr>\n",
       "      <th>c_4478</th>\n",
       "      <td>52</td>\n",
       "      <td>1</td>\n",
       "    </tr>\n",
       "    <tr>\n",
       "      <th>c_8351</th>\n",
       "      <td>54</td>\n",
       "      <td>1</td>\n",
       "    </tr>\n",
       "    <tr>\n",
       "      <th>c_5962</th>\n",
       "      <td>25</td>\n",
       "      <td>1</td>\n",
       "    </tr>\n",
       "    <tr>\n",
       "      <th>c_4223</th>\n",
       "      <td>71</td>\n",
       "      <td>1</td>\n",
       "    </tr>\n",
       "    <tr>\n",
       "      <th>c_4648</th>\n",
       "      <td>18</td>\n",
       "      <td>1</td>\n",
       "    </tr>\n",
       "  </tbody>\n",
       "</table>\n",
       "<p>8596 rows × 2 columns</p>\n",
       "</div>"
      ],
      "text/plain": [
       "           age  freq\n",
       "client_id           \n",
       "c_3263      37   403\n",
       "c_2140      45   402\n",
       "c_2595      48   398\n",
       "c_2077      38   384\n",
       "c_1637      34   380\n",
       "...        ...   ...\n",
       "c_4478      52     1\n",
       "c_8351      54     1\n",
       "c_5962      25     1\n",
       "c_4223      71     1\n",
       "c_4648      18     1\n",
       "\n",
       "[8596 rows x 2 columns]"
      ]
     },
     "execution_count": 135,
     "metadata": {},
     "output_type": "execute_result"
    }
   ],
   "source": [
    "freq_outlier_out = ~age_freq.freq.isin(outlier_freq)\n",
    "age_freq_bis = age_freq[freq_outlier_out]\n",
    "age_freq_bis.sort_values('freq',ascending=False)"
   ]
  },
  {
   "cell_type": "code",
   "execution_count": 136,
   "id": "94f146fb",
   "metadata": {},
   "outputs": [
    {
     "data": {
      "image/png": "[encoded data removed]",
      "text/plain": [
       "<Figure size 432x288 with 1 Axes>"
      ]
     },
     "metadata": {},
     "output_type": "display_data"
    }
   ],
   "source": [
    "plt.plot(age_freq_bis['age'],age_freq_bis['freq'], \"o\")\n",
    "sns.regplot(x=age_freq_bis[\"age\"], y=age_freq_bis[\"freq\"], line_kws={\"color\":\"r\",\"alpha\":0.7,\"lw\":5})\n",
    "plt.xlabel(\"âge\")\n",
    "plt.ylabel(\"freqence\")\n",
    "plt.show()"
   ]
  },
  {
   "cell_type": "markdown",
   "id": "71694e59",
   "metadata": {},
   "source": [
    "* Test Statistique"
   ]
  },
  {
   "cell_type": "code",
   "execution_count": 142,
   "id": "9f164916",
   "metadata": {},
   "outputs": [
    {
     "name": "stdout",
     "output_type": "stream",
     "text": [
      "\u001b[1mCoefficient de Pearson:\u001b[0m 0.03045\n",
      "\u001b[1mp-value:\u001b[0m 0.00476\n"
     ]
    }
   ],
   "source": [
    "r2, p2 = st.pearsonr(age_freq_bis['age'],age_freq_bis['freq'])\n",
    "print(color.BOLD + 'Coefficient de Pearson:' + color.END, round(r2, 5))\n",
    "print(color.BOLD + 'p-value:'+ color.END, round(p2, 5))"
   ]
  },
  {
   "cell_type": "markdown",
   "id": "c99a90ee",
   "metadata": {},
   "source": [
    "**Conclusion:** Il y a une abscence presque totale de corrélation. Les deux variables sont linéairement indépendantes."
   ]
  },
  {
   "cell_type": "markdown",
   "id": "2cd49e65",
   "metadata": {},
   "source": [
    "### Le lien entre l'âge des clients et la taille du panier moyen (qualitatifs)"
   ]
  },
  {
   "cell_type": "code",
   "execution_count": 138,
   "id": "9cb09cd7",
   "metadata": {},
   "outputs": [
    {
     "data": {
      "text/plain": [
       "client_id\n",
       "c_1       14.312308\n",
       "c_10      23.337931\n",
       "c_100     31.856250\n",
       "c_1000    18.095120\n",
       "c_1001    17.773137\n",
       "            ...    \n",
       "c_995     13.529286\n",
       "c_996     17.111368\n",
       "c_997     25.254407\n",
       "c_998     52.450566\n",
       "c_999     15.247826\n",
       "Name: price, Length: 8600, dtype: float64"
      ]
     },
     "execution_count": 138,
     "metadata": {},
     "output_type": "execute_result"
    }
   ],
   "source": [
    "panier_moy = data_final.groupby(by='client_id')['price'].mean()\n",
    "panier_moy"
   ]
  },
  {
   "cell_type": "code",
   "execution_count": 139,
   "id": "e9bcabd7",
   "metadata": {},
   "outputs": [],
   "source": [
    "a = age\n",
    "b = panier_moy\n",
    "age_panier_moy = pd.DataFrame({\"age\":a, \"panier_moy\":b})"
   ]
  },
  {
   "cell_type": "code",
   "execution_count": 140,
   "id": "fad6d4e7",
   "metadata": {},
   "outputs": [
    {
     "data": {
      "image/png": "[encoded data removed]",
      "text/plain": [
       "<Figure size 432x288 with 1 Axes>"
      ]
     },
     "metadata": {},
     "output_type": "display_data"
    }
   ],
   "source": [
    "plt.plot(age,panier_moy, \"o\")\n",
    "sns.regplot(x=age_panier_moy['age'], y=age_panier_moy['panier_moy'], line_kws={\"color\":\"r\",\"alpha\":0.7,\"lw\":5})\n",
    "plt.xlabel(\"âge\")\n",
    "plt.ylabel(\"panier_moy\")\n",
    "plt.show()"
   ]
  },
  {
   "cell_type": "markdown",
   "id": "4a158ed7",
   "metadata": {},
   "source": [
    "* Test statistique"
   ]
  },
  {
   "cell_type": "code",
   "execution_count": 144,
   "id": "069b2b8e",
   "metadata": {},
   "outputs": [
    {
     "name": "stdout",
     "output_type": "stream",
     "text": [
      "\u001b[1mCoefficient de Pearson:\u001b[0m -0.513\n",
      "\u001b[1mp-value:\u001b[0m 0.0\n"
     ]
    }
   ],
   "source": [
    "r3, p3 = st.pearsonr(age_panier_moy['age'],age_panier_moy['panier_moy'])\n",
    "print(color.BOLD + 'Coefficient de Pearson:' + color.END, round(r3, 3))\n",
    "print(color.BOLD + 'p-value:'+ color.END, round(p3, 3))"
   ]
  },
  {
   "cell_type": "markdown",
   "id": "f2489dfb",
   "metadata": {},
   "source": [
    "**Conclusion :** La corrélation est négativement faible entre l'âge des clients et le panier moyen d'achat."
   ]
  },
  {
   "cell_type": "markdown",
   "id": "9642fe43",
   "metadata": {},
   "source": [
    "### Le lien entre l'âge des clients et les catégories des livres achetés (ANOVA)"
   ]
  },
  {
   "cell_type": "code",
   "execution_count": 145,
   "id": "be23e02a",
   "metadata": {},
   "outputs": [
    {
     "data": {
      "image/png": "[encoded data removed]",
      "text/plain": [
       "<Figure size 432x288 with 1 Axes>"
      ]
     },
     "metadata": {},
     "output_type": "display_data"
    }
   ],
   "source": [
    "X = \"categ\" # qualitative\n",
    "Y = \"age\" # quantitative\n",
    "\n",
    "modalites = data_final[X].unique()\n",
    "groupes = []\n",
    "for m in modalites:\n",
    "    groupes.append(data_final[data_final[X]==m][Y])\n",
    "\n",
    "# Propriétés graphiques (pas très importantes)    \n",
    "medianprops = {'color':\"black\"}\n",
    "meanprops = {'marker':'o', 'markeredgecolor':'black',\n",
    "            'markerfacecolor':'firebrick'}\n",
    "    \n",
    "plt.boxplot(groupes, labels=modalites, showfliers=False, medianprops=medianprops, \n",
    "            vert=False, patch_artist=True, showmeans=True, meanprops=meanprops)\n",
    "plt.show()"
   ]
  },
  {
   "cell_type": "markdown",
   "id": "4906e326",
   "metadata": {},
   "source": [
    " * Test statistique"
   ]
  },
  {
   "cell_type": "code",
   "execution_count": 146,
   "id": "5c13013f",
   "metadata": {},
   "outputs": [
    {
     "data": {
      "text/plain": [
       "0.11903391947233398"
      ]
     },
     "execution_count": 146,
     "metadata": {},
     "output_type": "execute_result"
    }
   ],
   "source": [
    "def eta_squared(x,y):\n",
    "    moyenne_y = y.mean()\n",
    "    classes = []\n",
    "    for classe in x.unique():\n",
    "        yi_classe = y[x==classe]\n",
    "        classes.append({'ni': len(yi_classe),\n",
    "                        'moyenne_classe': yi_classe.mean()})\n",
    "    SCT = sum([(yj-moyenne_y)**2 for yj in y])\n",
    "    SCE = sum([c['ni']*(c['moyenne_classe']-moyenne_y)**2 for c in classes])\n",
    "    return SCE/SCT\n",
    "    \n",
    "eta_squared(data_final[X],data_final[Y])"
   ]
  },
  {
   "cell_type": "markdown",
   "id": "6a18fbb1",
   "metadata": {},
   "source": [
    "**Conclusion :** Les variables ne sont pas corrélées. Il n'a à priori pas de relation entre l'âge des clients et les catégories des produits."
   ]
  },
  {
   "cell_type": "code",
   "execution_count": null,
   "id": "baf126ee",
   "metadata": {},
   "outputs": [],
   "source": []
  }
 ],
 "metadata": {
  "kernelspec": {
   "display_name": "Python 3.8.13 ('base')",
   "language": "python",
   "name": "python3"
  },
  "language_info": {
   "codemirror_mode": {
    "name": "ipython",
    "version": 3
   },
   "file_extension": ".py",
   "mimetype": "text/x-python",
   "name": "python",
   "nbconvert_exporter": "python",
   "pygments_lexer": "ipython3",
   "version": "3.8.13"
  },
  "vscode": {
   "interpreter": {
    "hash": "ff9ad4cfcb67369d60715f6572f365535155a9efb3ceee80aa7314812650682e"
   }
  }
 },
 "nbformat": 4,
 "nbformat_minor": 5
}
